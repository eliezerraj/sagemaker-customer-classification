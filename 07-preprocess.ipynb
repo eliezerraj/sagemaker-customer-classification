{
 "cells": [
  {
   "cell_type": "code",
   "execution_count": 1,
   "id": "b5be451b-0fe2-4ed0-a6da-d1c66a226fd0",
   "metadata": {},
   "outputs": [
    {
     "name": "stdout",
     "output_type": "stream",
     "text": [
      "sagemaker.config INFO - Not applying SDK defaults from location: /etc/xdg/sagemaker/config.yaml\n",
      "sagemaker.config INFO - Not applying SDK defaults from location: /home/sagemaker-user/.config/sagemaker/config.yaml\n"
     ]
    }
   ],
   "source": [
    "# Load Libraries\n",
    "# pip3 install fsspec / conda install -c conda-forge fsspec\n",
    "# pip3 install s3fs\n",
    "\n",
    "import pandas as pd\n",
    "import os\n",
    "import boto3\n",
    "import datetime\n",
    "from sagemaker import Session"
   ]
  },
  {
   "cell_type": "code",
   "execution_count": 3,
   "id": "7b221b9b-b46b-4870-9ddb-0f4d7942610d",
   "metadata": {},
   "outputs": [
    {
     "name": "stdout",
     "output_type": "stream",
     "text": [
      "start time: 2024-04-29 17:56:00.007104\n",
      "---------------------\n",
      "data_location :  s3://eliezerraj-908671954593-dataset/customer/customer_profile.csv\n",
      "location_scaler :  s3://eliezerraj-908671954593-dataset/customer\n",
      "shape :  (10127, 7)\n",
      "index :  RangeIndex(start=0, stop=10127, step=1)\n"
     ]
    }
   ],
   "source": [
    "# Load data from csv\n",
    "print('start time:', datetime.datetime.now())\n",
    "\n",
    "s3_client = boto3.client(\"s3\")\n",
    "s3 = boto3.resource('s3')\n",
    "\n",
    "dataset_name = 'customer_profile.csv'\n",
    "bucket_name = \"eliezerraj-908671954593-dataset/customer\"\n",
    "\n",
    "location_scaler = 's3://{}'.format(bucket_name)\n",
    "data_location = 's3://{}/{}'.format(bucket_name, dataset_name)\n",
    "\n",
    "data = pd.read_csv(data_location)\n",
    "\n",
    "print(\"---------------------\")\n",
    "print(\"data_location : \", data_location)\n",
    "print(\"location_scaler : \", location_scaler)\n",
    "print(\"shape : \", data.shape)\n",
    "print(\"index : \",data.index)"
   ]
  },
  {
   "cell_type": "code",
   "execution_count": 6,
   "id": "21d030f5-fa3b-444b-bfb4-74ee5a6da408",
   "metadata": {},
   "outputs": [
    {
     "name": "stdout",
     "output_type": "stream",
     "text": [
      "-------------------- show categorical data  ----------------------------\n",
      "['High School' 'Graduate' 'Uneducated' 'Unknown' 'College' 'Post-Graduate'\n",
      " 'Doctorate']\n",
      "['$60K - $80K' 'Less than $40K' '$80K - $120K' '$40K - $60K' '$120K +'\n",
      " 'Unknown']\n",
      "--------------------- show categorical data  ---------------------------\n"
     ]
    },
    {
     "data": {
      "text/html": [
       "<div>\n",
       "<style scoped>\n",
       "    .dataframe tbody tr th:only-of-type {\n",
       "        vertical-align: middle;\n",
       "    }\n",
       "\n",
       "    .dataframe tbody tr th {\n",
       "        vertical-align: top;\n",
       "    }\n",
       "\n",
       "    .dataframe thead th {\n",
       "        text-align: right;\n",
       "    }\n",
       "</style>\n",
       "<table border=\"1\" class=\"dataframe\">\n",
       "  <thead>\n",
       "    <tr style=\"text-align: right;\">\n",
       "      <th></th>\n",
       "      <th>CLIENTNUM</th>\n",
       "      <th>Customer_Age</th>\n",
       "      <th>Gender</th>\n",
       "      <th>Dependent_count</th>\n",
       "      <th>Education_Level</th>\n",
       "      <th>Marital_Status</th>\n",
       "      <th>Income_Category</th>\n",
       "      <th>Education_Level_Quality</th>\n",
       "      <th>Income_Category_Quality</th>\n",
       "    </tr>\n",
       "  </thead>\n",
       "  <tbody>\n",
       "    <tr>\n",
       "      <th>0</th>\n",
       "      <td>768805383</td>\n",
       "      <td>45</td>\n",
       "      <td>M</td>\n",
       "      <td>3</td>\n",
       "      <td>High School</td>\n",
       "      <td>Married</td>\n",
       "      <td>$60K - $80K</td>\n",
       "      <td>1</td>\n",
       "      <td>3</td>\n",
       "    </tr>\n",
       "    <tr>\n",
       "      <th>1</th>\n",
       "      <td>818770008</td>\n",
       "      <td>49</td>\n",
       "      <td>F</td>\n",
       "      <td>5</td>\n",
       "      <td>Graduate</td>\n",
       "      <td>Single</td>\n",
       "      <td>Less than $40K</td>\n",
       "      <td>3</td>\n",
       "      <td>1</td>\n",
       "    </tr>\n",
       "  </tbody>\n",
       "</table>\n",
       "</div>"
      ],
      "text/plain": [
       "   CLIENTNUM  Customer_Age Gender  Dependent_count Education_Level  \\\n",
       "0  768805383            45      M                3     High School   \n",
       "1  818770008            49      F                5        Graduate   \n",
       "\n",
       "  Marital_Status Income_Category  Education_Level_Quality  \\\n",
       "0        Married     $60K - $80K                        1   \n",
       "1         Single  Less than $40K                        3   \n",
       "\n",
       "   Income_Category_Quality  \n",
       "0                        3  \n",
       "1                        1  "
      ]
     },
     "execution_count": 6,
     "metadata": {},
     "output_type": "execute_result"
    }
   ],
   "source": [
    "#Cleaning and econding\n",
    "df_customer = data.filter(['CLIENTNUM','Customer_Age','Gender','Dependent_count','Education_Level','Marital_Status','Income_Category','Months_on_book'], axis=1)\n",
    "\n",
    "print(\"-------------------- show categorical data  ----------------------------\")\n",
    "print(df_customer[\"Education_Level\"].unique())\n",
    "print(df_customer[\"Income_Category\"].unique())\n",
    "print(\"--------------------- show categorical data  ---------------------------\")\n",
    "\n",
    "education_map = {'Uneducated': 0, 'Unknown':0, 'High School': 1, 'College':2,'Graduate': 3,'Post-Graduate':4 , 'Doctorate': 5}\n",
    "income_map = { 'Unknown': 0,'Less than $40K': 1, '$40K - $60K':2, '$60K - $80K': 3, '$80K - $120K':4 ,'$120K +': 5}\n",
    "\n",
    "df_customer['Education_Level_Quality'] = df_customer['Education_Level'].map(education_map)\n",
    "df_customer['Income_Category_Quality'] = df_customer['Income_Category'].map(income_map)\n",
    "df_customer.head(2)"
   ]
  },
  {
   "cell_type": "code",
   "execution_count": 21,
   "id": "dfe34b32-baeb-4d4f-924f-b62881254d1e",
   "metadata": {},
   "outputs": [
    {
     "data": {
      "text/html": [
       "<div>\n",
       "<style scoped>\n",
       "    .dataframe tbody tr th:only-of-type {\n",
       "        vertical-align: middle;\n",
       "    }\n",
       "\n",
       "    .dataframe tbody tr th {\n",
       "        vertical-align: top;\n",
       "    }\n",
       "\n",
       "    .dataframe thead th {\n",
       "        text-align: right;\n",
       "    }\n",
       "</style>\n",
       "<table border=\"1\" class=\"dataframe\">\n",
       "  <thead>\n",
       "    <tr style=\"text-align: right;\">\n",
       "      <th></th>\n",
       "      <th>Customer_Age</th>\n",
       "      <th>Dependent_count</th>\n",
       "      <th>Education_Level_Quality</th>\n",
       "      <th>Income_Category_Quality</th>\n",
       "    </tr>\n",
       "  </thead>\n",
       "  <tbody>\n",
       "    <tr>\n",
       "      <th>0</th>\n",
       "      <td>45</td>\n",
       "      <td>3</td>\n",
       "      <td>1</td>\n",
       "      <td>3</td>\n",
       "    </tr>\n",
       "    <tr>\n",
       "      <th>1</th>\n",
       "      <td>49</td>\n",
       "      <td>5</td>\n",
       "      <td>3</td>\n",
       "      <td>1</td>\n",
       "    </tr>\n",
       "    <tr>\n",
       "      <th>2</th>\n",
       "      <td>51</td>\n",
       "      <td>3</td>\n",
       "      <td>3</td>\n",
       "      <td>4</td>\n",
       "    </tr>\n",
       "  </tbody>\n",
       "</table>\n",
       "</div>"
      ],
      "text/plain": [
       "   Customer_Age  Dependent_count  Education_Level_Quality  \\\n",
       "0            45                3                        1   \n",
       "1            49                5                        3   \n",
       "2            51                3                        3   \n",
       "\n",
       "   Income_Category_Quality  \n",
       "0                        3  \n",
       "1                        1  \n",
       "2                        4  "
      ]
     },
     "execution_count": 21,
     "metadata": {},
     "output_type": "execute_result"
    }
   ],
   "source": [
    "# show dataframe date\n",
    "\n",
    "df_training = df_customer[['Customer_Age',\n",
    "                           'Dependent_count',\n",
    "                           'Education_Level_Quality', \n",
    "                           'Income_Category_Quality']]\n",
    "df_training.head(3)"
   ]
  },
  {
   "cell_type": "code",
   "execution_count": 22,
   "id": "a69531f0-be0c-47d0-8909-2d7de63a446e",
   "metadata": {},
   "outputs": [
    {
     "data": {
      "text/plain": [
       "array([[-0.16540559,  0.50336814, -0.5026349 ,  0.6200389 ],\n",
       "       [ 0.3335704 ,  2.0431986 ,  0.8342485 , -0.736292  ],\n",
       "       [ 0.58305836,  0.50336814,  0.8342485 ,  1.2982044 ],\n",
       "       ...,\n",
       "       [-0.29014957, -1.0364624 , -0.5026349 , -0.736292  ],\n",
       "       [-2.0365655 , -0.26654714,  0.8342485 , -0.05812655],\n",
       "       [-0.41489357, -0.26654714,  0.8342485 , -0.736292  ]],\n",
       "      dtype=float32)"
      ]
     },
     "execution_count": 22,
     "metadata": {},
     "output_type": "execute_result"
    }
   ],
   "source": [
    "# Fitting kmeans to the dataset with k=3\n",
    "from sklearn.cluster import KMeans\n",
    "from sklearn.preprocessing import StandardScaler\n",
    "\n",
    "scaler = StandardScaler()\n",
    "\n",
    "df_training = df_customer[['Customer_Age',\n",
    "                           'Dependent_count',\n",
    "                           'Education_Level_Quality',\n",
    "                           'Income_Category_Quality']]\n",
    "\n",
    "df_training_scaled = scaler.fit_transform(df_training).astype('float32')\n",
    "df_training_scaled"
   ]
  },
  {
   "cell_type": "code",
   "execution_count": 35,
   "id": "1139b973-0704-4ddf-b662-04bd76a3ad06",
   "metadata": {},
   "outputs": [
    {
     "name": "stdout",
     "output_type": "stream",
     "text": [
      "model saved : s3://eliezerraj-908671954593-dataset/customer/scaler.joblib\n"
     ]
    }
   ],
   "source": [
    "# Save model\n",
    "import s3fs\n",
    "import os\n",
    "import joblib\n",
    "\n",
    "fs = s3fs.S3FileSystem()\n",
    "output_file = os.path.join(location_scaler, \"scaler.joblib\")\n",
    "\n",
    "with fs.open(output_file, 'wb') as f:\n",
    "    joblib.dump(scaler, f)\n",
    "\n",
    "print(\"model saved :\", output_file)"
   ]
  },
  {
   "cell_type": "code",
   "execution_count": 23,
   "id": "3f5b7de3-e90c-4c14-8d72-c34729245c85",
   "metadata": {},
   "outputs": [
    {
     "name": "stdout",
     "output_type": "stream",
     "text": [
      "model loaded !\n"
     ]
    }
   ],
   "source": [
    "# Load model\n",
    "import s3fs\n",
    "import os\n",
    "import joblib\n",
    "\n",
    "fs = s3fs.S3FileSystem()\n",
    "output_file = os.path.join(location_scaler, \"scaler.joblib\")\n",
    "\n",
    "with fs.open(output_file, 'rb') as f:\n",
    "    scaler_load = joblib.load(f)\n",
    "\n",
    "print(\"model loaded !\")"
   ]
  },
  {
   "cell_type": "code",
   "execution_count": 25,
   "id": "054a5d66-5895-47ea-962a-082e8674efd5",
   "metadata": {},
   "outputs": [
    {
     "name": "stdout",
     "output_type": "stream",
     "text": [
      "   Customer_Age  Dependent_count  Education_Level_Quality  \\\n",
      "0            45                3                        1   \n",
      "1            49                5                        3   \n",
      "2            51                3                        3   \n",
      "\n",
      "   Income_Category_Quality  \n",
      "0                        3  \n",
      "1                        1  \n",
      "2                        4  \n"
     ]
    },
    {
     "data": {
      "text/plain": [
       "array([[-0.16540559,  0.50336814, -0.5026349 ,  0.6200389 ],\n",
       "       [ 0.3335704 ,  2.0431986 ,  0.8342485 , -0.736292  ],\n",
       "       [ 0.58305836,  0.50336814,  0.8342485 ,  1.2982044 ],\n",
       "       ...,\n",
       "       [-0.29014957, -1.0364624 , -0.5026349 , -0.736292  ],\n",
       "       [-2.0365655 , -0.26654714,  0.8342485 , -0.05812655],\n",
       "       [-0.41489357, -0.26654714,  0.8342485 , -0.736292  ]],\n",
       "      dtype=float32)"
      ]
     },
     "execution_count": 25,
     "metadata": {},
     "output_type": "execute_result"
    }
   ],
   "source": [
    "# Testing scaler\n",
    "print(df_training.head(3))\n",
    "\n",
    "df_training_scaled_by_loaded = scaler_load.fit_transform(df_training).astype('float32')\n",
    "\n",
    "df_training_scaled_by_loaded"
   ]
  },
  {
   "cell_type": "code",
   "execution_count": 40,
   "id": "ef60b7a2-2ef9-4fd2-9cb4-eb1f0cc452ca",
   "metadata": {},
   "outputs": [
    {
     "data": {
      "text/html": [
       "<div>\n",
       "<style scoped>\n",
       "    .dataframe tbody tr th:only-of-type {\n",
       "        vertical-align: middle;\n",
       "    }\n",
       "\n",
       "    .dataframe tbody tr th {\n",
       "        vertical-align: top;\n",
       "    }\n",
       "\n",
       "    .dataframe thead th {\n",
       "        text-align: right;\n",
       "    }\n",
       "</style>\n",
       "<table border=\"1\" class=\"dataframe\">\n",
       "  <thead>\n",
       "    <tr style=\"text-align: right;\">\n",
       "      <th></th>\n",
       "      <th>Customer_Age</th>\n",
       "      <th>Dependent_count</th>\n",
       "      <th>Education_Level_Quality</th>\n",
       "      <th>Income_Category_Quality</th>\n",
       "    </tr>\n",
       "  </thead>\n",
       "  <tbody>\n",
       "    <tr>\n",
       "      <th>0</th>\n",
       "      <td>23</td>\n",
       "      <td>1</td>\n",
       "      <td>1</td>\n",
       "      <td>1</td>\n",
       "    </tr>\n",
       "  </tbody>\n",
       "</table>\n",
       "</div>"
      ],
      "text/plain": [
       "   Customer_Age  Dependent_count  Education_Level_Quality  \\\n",
       "0            23                1                        1   \n",
       "\n",
       "   Income_Category_Quality  \n",
       "0                        1  "
      ]
     },
     "execution_count": 40,
     "metadata": {},
     "output_type": "execute_result"
    }
   ],
   "source": [
    "# Add new data to scale\n",
    "import pandas as pd\n",
    "\n",
    "df_new_customer_data = [{ 'Customer_Age': 23, \n",
    "                         'Dependent_count': 1, \n",
    "                         'Education_Level_Quality': 1, \n",
    "                         'Income_Category_Quality': 1 }]\n",
    "\n",
    "df_new_customer_data = pd.DataFrame(df_new_customer_data)\n",
    "df_new_customer_data"
   ]
  },
  {
   "cell_type": "code",
   "execution_count": 41,
   "id": "4f6d0c03-5530-47b1-b616-b126f2aeb3ee",
   "metadata": {},
   "outputs": [
    {
     "data": {
      "text/plain": [
       "array([[0., 0., 0., 0.]], dtype=float32)"
      ]
     },
     "execution_count": 41,
     "metadata": {},
     "output_type": "execute_result"
    }
   ],
   "source": [
    "df_payload_scaled = scaler_load.fit_transform(df_new_customer_data).astype('float32')\n",
    "df_payload_scaled"
   ]
  },
  {
   "cell_type": "code",
   "execution_count": null,
   "id": "e976891f-9070-4a2b-8da0-22f4ed211547",
   "metadata": {},
   "outputs": [],
   "source": []
  },
  {
   "cell_type": "code",
   "execution_count": 42,
   "id": "489f2b0f-e4ae-4714-ad46-32053477c1c4",
   "metadata": {},
   "outputs": [
    {
     "data": {
      "text/html": [
       "<div>\n",
       "<style scoped>\n",
       "    .dataframe tbody tr th:only-of-type {\n",
       "        vertical-align: middle;\n",
       "    }\n",
       "\n",
       "    .dataframe tbody tr th {\n",
       "        vertical-align: top;\n",
       "    }\n",
       "\n",
       "    .dataframe thead th {\n",
       "        text-align: right;\n",
       "    }\n",
       "</style>\n",
       "<table border=\"1\" class=\"dataframe\">\n",
       "  <thead>\n",
       "    <tr style=\"text-align: right;\">\n",
       "      <th></th>\n",
       "      <th>Customer_Age</th>\n",
       "      <th>Dependent_count</th>\n",
       "      <th>Education_Level_Quality</th>\n",
       "      <th>Income_Category_Quality</th>\n",
       "    </tr>\n",
       "  </thead>\n",
       "  <tbody>\n",
       "    <tr>\n",
       "      <th>0</th>\n",
       "      <td>23</td>\n",
       "      <td>1</td>\n",
       "      <td>1</td>\n",
       "      <td>1</td>\n",
       "    </tr>\n",
       "    <tr>\n",
       "      <th>0</th>\n",
       "      <td>45</td>\n",
       "      <td>3</td>\n",
       "      <td>1</td>\n",
       "      <td>3</td>\n",
       "    </tr>\n",
       "    <tr>\n",
       "      <th>1</th>\n",
       "      <td>49</td>\n",
       "      <td>5</td>\n",
       "      <td>3</td>\n",
       "      <td>1</td>\n",
       "    </tr>\n",
       "    <tr>\n",
       "      <th>2</th>\n",
       "      <td>51</td>\n",
       "      <td>3</td>\n",
       "      <td>3</td>\n",
       "      <td>4</td>\n",
       "    </tr>\n",
       "    <tr>\n",
       "      <th>3</th>\n",
       "      <td>40</td>\n",
       "      <td>4</td>\n",
       "      <td>1</td>\n",
       "      <td>1</td>\n",
       "    </tr>\n",
       "    <tr>\n",
       "      <th>...</th>\n",
       "      <td>...</td>\n",
       "      <td>...</td>\n",
       "      <td>...</td>\n",
       "      <td>...</td>\n",
       "    </tr>\n",
       "    <tr>\n",
       "      <th>10122</th>\n",
       "      <td>50</td>\n",
       "      <td>2</td>\n",
       "      <td>3</td>\n",
       "      <td>2</td>\n",
       "    </tr>\n",
       "    <tr>\n",
       "      <th>10123</th>\n",
       "      <td>41</td>\n",
       "      <td>2</td>\n",
       "      <td>0</td>\n",
       "      <td>2</td>\n",
       "    </tr>\n",
       "    <tr>\n",
       "      <th>10124</th>\n",
       "      <td>44</td>\n",
       "      <td>1</td>\n",
       "      <td>1</td>\n",
       "      <td>1</td>\n",
       "    </tr>\n",
       "    <tr>\n",
       "      <th>10125</th>\n",
       "      <td>30</td>\n",
       "      <td>2</td>\n",
       "      <td>3</td>\n",
       "      <td>2</td>\n",
       "    </tr>\n",
       "    <tr>\n",
       "      <th>10126</th>\n",
       "      <td>43</td>\n",
       "      <td>2</td>\n",
       "      <td>3</td>\n",
       "      <td>1</td>\n",
       "    </tr>\n",
       "  </tbody>\n",
       "</table>\n",
       "<p>10128 rows × 4 columns</p>\n",
       "</div>"
      ],
      "text/plain": [
       "       Customer_Age  Dependent_count  Education_Level_Quality  \\\n",
       "0                23                1                        1   \n",
       "0                45                3                        1   \n",
       "1                49                5                        3   \n",
       "2                51                3                        3   \n",
       "3                40                4                        1   \n",
       "...             ...              ...                      ...   \n",
       "10122            50                2                        3   \n",
       "10123            41                2                        0   \n",
       "10124            44                1                        1   \n",
       "10125            30                2                        3   \n",
       "10126            43                2                        3   \n",
       "\n",
       "       Income_Category_Quality  \n",
       "0                            1  \n",
       "0                            3  \n",
       "1                            1  \n",
       "2                            4  \n",
       "3                            1  \n",
       "...                        ...  \n",
       "10122                        2  \n",
       "10123                        2  \n",
       "10124                        1  \n",
       "10125                        2  \n",
       "10126                        1  \n",
       "\n",
       "[10128 rows x 4 columns]"
      ]
     },
     "execution_count": 42,
     "metadata": {},
     "output_type": "execute_result"
    }
   ],
   "source": [
    "df_final = pd.concat([df_new_customer_data, df_training], axis=0)\n",
    "df_final"
   ]
  },
  {
   "cell_type": "code",
   "execution_count": 43,
   "id": "48b11466-274d-4f32-8418-471a9169ab80",
   "metadata": {},
   "outputs": [
    {
     "data": {
      "text/plain": [
       "array([[-2.9084144 , -1.0363563 , -0.50260377, -0.736236  ],\n",
       "       [-0.16505745,  0.50346863, -0.50260377,  0.62012565],\n",
       "       [ 0.3337347 ,  2.0432935 ,  0.8343289 , -0.736236  ],\n",
       "       ...,\n",
       "       [-0.2897555 , -1.0363563 , -0.50260377, -0.736236  ],\n",
       "       [-2.035528  , -0.26644385,  0.8343289 , -0.05805517],\n",
       "       [-0.41445354, -0.26644385,  0.8343289 , -0.736236  ]],\n",
       "      dtype=float32)"
      ]
     },
     "execution_count": 43,
     "metadata": {},
     "output_type": "execute_result"
    }
   ],
   "source": [
    "df_final_scaled = scaler_load.fit_transform(df_final).astype('float32')\n",
    "df_final_scaled"
   ]
  },
  {
   "cell_type": "code",
   "execution_count": null,
   "id": "31f9ecb8-e3bf-49a4-bb76-444279505845",
   "metadata": {},
   "outputs": [],
   "source": []
  }
 ],
 "metadata": {
  "kernelspec": {
   "display_name": "Python 3 (ipykernel)",
   "language": "python",
   "name": "python3"
  },
  "language_info": {
   "codemirror_mode": {
    "name": "ipython",
    "version": 3
   },
   "file_extension": ".py",
   "mimetype": "text/x-python",
   "name": "python",
   "nbconvert_exporter": "python",
   "pygments_lexer": "ipython3",
   "version": "3.10.13"
  }
 },
 "nbformat": 4,
 "nbformat_minor": 5
}
