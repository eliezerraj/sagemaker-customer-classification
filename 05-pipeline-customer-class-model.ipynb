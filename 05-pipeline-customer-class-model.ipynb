{
 "cells": [
  {
   "cell_type": "markdown",
   "id": "d23184e7-80d7-49e2-a22a-a8bb0da84f8d",
   "metadata": {},
   "source": [
    "# (Pipeline) Load Libraries"
   ]
  },
  {
   "cell_type": "code",
   "execution_count": 9,
   "id": "f3632506-91c6-41c2-ac2c-d129e9f2ab43",
   "metadata": {},
   "outputs": [
    {
     "name": "stdout",
     "output_type": "stream",
     "text": [
      "Requirement already satisfied: boto3 in /opt/conda/lib/python3.10/site-packages (1.28.64)\n",
      "Collecting boto3\n",
      "  Downloading boto3-1.34.94-py3-none-any.whl.metadata (6.6 kB)\n",
      "Requirement already satisfied: fsspec in /opt/conda/lib/python3.10/site-packages (2023.6.0)\n",
      "Collecting fsspec\n",
      "  Using cached fsspec-2024.3.1-py3-none-any.whl.metadata (6.8 kB)\n",
      "Requirement already satisfied: s3fs in /opt/conda/lib/python3.10/site-packages (2024.3.1)\n",
      "Collecting botocore<1.35.0,>=1.34.94 (from boto3)\n",
      "  Downloading botocore-1.34.94-py3-none-any.whl.metadata (5.7 kB)\n",
      "Requirement already satisfied: jmespath<2.0.0,>=0.7.1 in /opt/conda/lib/python3.10/site-packages (from boto3) (1.0.1)\n",
      "Collecting s3transfer<0.11.0,>=0.10.0 (from boto3)\n",
      "  Using cached s3transfer-0.10.1-py3-none-any.whl.metadata (1.7 kB)\n",
      "Requirement already satisfied: aiobotocore<3.0.0,>=2.5.4 in /opt/conda/lib/python3.10/site-packages (from s3fs) (2.7.0)\n",
      "Requirement already satisfied: aiohttp!=4.0.0a0,!=4.0.0a1 in /opt/conda/lib/python3.10/site-packages (from s3fs) (3.9.3)\n",
      "INFO: pip is looking at multiple versions of aiobotocore to determine which version is compatible with other requirements. This could take a while.\n",
      "Collecting aiobotocore<3.0.0,>=2.5.4 (from s3fs)\n",
      "  Using cached aiobotocore-2.12.3-py3-none-any.whl.metadata (21 kB)\n",
      "  Using cached aiobotocore-2.12.2-py3-none-any.whl.metadata (21 kB)\n",
      "  Using cached aiobotocore-2.12.1-py3-none-any.whl.metadata (21 kB)\n",
      "  Using cached aiobotocore-2.12.0-py3-none-any.whl.metadata (21 kB)\n",
      "  Using cached aiobotocore-2.11.2-py3-none-any.whl.metadata (21 kB)\n",
      "  Using cached aiobotocore-2.11.1-py3-none-any.whl.metadata (21 kB)\n",
      "  Using cached aiobotocore-2.11.0-py3-none-any.whl.metadata (21 kB)\n",
      "INFO: pip is still looking at multiple versions of aiobotocore to determine which version is compatible with other requirements. This could take a while.\n",
      "  Using cached aiobotocore-2.10.0-py3-none-any.whl.metadata (20 kB)\n",
      "  Using cached aiobotocore-2.9.1-py3-none-any.whl.metadata (20 kB)\n",
      "  Using cached aiobotocore-2.9.0-py3-none-any.whl.metadata (20 kB)\n",
      "  Using cached aiobotocore-2.8.0-py3-none-any.whl.metadata (20 kB)\n",
      "  Using cached aiobotocore-2.6.0-py3-none-any.whl.metadata (19 kB)\n",
      "INFO: This is taking longer than usual. You might need to provide the dependency resolver with stricter constraints to reduce runtime. See https://pip.pypa.io/warnings/backtracking for guidance. If you want to abort this run, press Ctrl + C.\n",
      "  Using cached aiobotocore-2.5.4-py3-none-any.whl.metadata (19 kB)\n",
      "Collecting s3fs\n",
      "  Using cached s3fs-2024.3.1-py3-none-any.whl.metadata (1.6 kB)\n",
      "Requirement already satisfied: python-dateutil<3.0.0,>=2.1 in /opt/conda/lib/python3.10/site-packages (from botocore<1.35.0,>=1.34.94->boto3) (2.8.2)\n",
      "Requirement already satisfied: urllib3!=2.2.0,<3,>=1.25.4 in /opt/conda/lib/python3.10/site-packages (from botocore<1.35.0,>=1.34.94->boto3) (1.26.18)\n",
      "  Using cached s3fs-2024.3.0-py3-none-any.whl.metadata (1.6 kB)\n",
      "Collecting fsspec\n",
      "  Using cached fsspec-2024.3.0-py3-none-any.whl.metadata (6.8 kB)\n",
      "Collecting s3fs\n",
      "  Using cached s3fs-2024.2.0-py3-none-any.whl.metadata (1.6 kB)\n",
      "Collecting fsspec\n",
      "  Using cached fsspec-2024.2.0-py3-none-any.whl.metadata (6.8 kB)\n",
      "Collecting s3fs\n",
      "  Using cached s3fs-2023.12.2-py3-none-any.whl.metadata (1.6 kB)\n",
      "Collecting fsspec\n",
      "  Using cached fsspec-2023.12.2-py3-none-any.whl.metadata (6.8 kB)\n",
      "Collecting s3fs\n",
      "  Using cached s3fs-2023.12.1-py3-none-any.whl.metadata (1.6 kB)\n",
      "Collecting fsspec\n",
      "  Using cached fsspec-2023.12.1-py3-none-any.whl.metadata (6.8 kB)\n",
      "Collecting s3fs\n",
      "  Using cached s3fs-2023.10.0-py3-none-any.whl.metadata (1.6 kB)\n",
      "Collecting fsspec\n",
      "  Using cached fsspec-2023.10.0-py3-none-any.whl.metadata (6.8 kB)\n",
      "Collecting s3fs\n",
      "  Using cached s3fs-2023.9.2-py3-none-any.whl.metadata (1.6 kB)\n",
      "Collecting fsspec\n",
      "  Using cached fsspec-2023.9.2-py3-none-any.whl.metadata (6.7 kB)\n",
      "Collecting s3fs\n",
      "  Using cached s3fs-2023.9.1-py3-none-any.whl.metadata (1.6 kB)\n",
      "Collecting fsspec\n",
      "  Using cached fsspec-2023.9.1-py3-none-any.whl.metadata (6.7 kB)\n",
      "Collecting s3fs\n",
      "  Using cached s3fs-2023.9.0-py3-none-any.whl.metadata (1.6 kB)\n",
      "Collecting fsspec\n",
      "  Using cached fsspec-2023.9.0-py3-none-any.whl.metadata (6.7 kB)\n",
      "Collecting s3fs\n",
      "  Using cached s3fs-2023.6.0-py3-none-any.whl.metadata (1.6 kB)\n",
      "\u001b[31mERROR: Could not install packages due to an OSError: [Errno 2] No such file or directory: '/opt/conda/lib/python3.10/site-packages/fsspec-2023.6.0.dist-info/METADATA'\n",
      "\u001b[0m\u001b[31m\n",
      "\u001b[0m"
     ]
    }
   ],
   "source": [
    "!pip install --upgrade boto3 fsspec s3fs"
   ]
  },
  {
   "cell_type": "markdown",
   "id": "b23ef028-8739-4d55-bbc5-2050fd73f52f",
   "metadata": {},
   "source": [
    "# Begin Pipeline Setup"
   ]
  },
  {
   "cell_type": "code",
   "execution_count": 10,
   "id": "2df70c77-836a-4e50-a10e-a457916be354",
   "metadata": {},
   "outputs": [
    {
     "name": "stdout",
     "output_type": "stream",
     "text": [
      "sagemaker.config INFO - Not applying SDK defaults from location: /etc/xdg/sagemaker/config.yaml\n",
      "sagemaker.config INFO - Not applying SDK defaults from location: /home/sagemaker-user/.config/sagemaker/config.yaml\n",
      "sagemaker.config INFO - Not applying SDK defaults from location: /etc/xdg/sagemaker/config.yaml\n",
      "sagemaker.config INFO - Not applying SDK defaults from location: /home/sagemaker-user/.config/sagemaker/config.yaml\n",
      "sagemaker.config INFO - Not applying SDK defaults from location: /etc/xdg/sagemaker/config.yaml\n",
      "sagemaker.config INFO - Not applying SDK defaults from location: /home/sagemaker-user/.config/sagemaker/config.yaml\n"
     ]
    }
   ],
   "source": [
    "import boto3 \n",
    "import pandas as pd \n",
    "import sagemaker\n",
    "import os\n",
    "from sagemaker.workflow.pipeline_context import PipelineSession \n",
    "import sagemaker\n",
    "\n",
    "s3_client = boto3.resource('s3')\n",
    "\n",
    "pipeline_name = f\"sagemaker-mlops-customer-pipeline\" \n",
    "\n",
    "sagemaker_session = sagemaker.Session()\n",
    "region = sagemaker_session.boto_region_name \n",
    "role = sagemaker.get_execution_role()\n",
    "pipeline_session = PipelineSession()\n",
    "\n",
    "model_package_group_name = f\"CustomerClassModelPackageGroup\""
   ]
  },
  {
   "cell_type": "markdown",
   "id": "491d0fb8-dcb8-4a74-a6c5-75b3aa8fc72f",
   "metadata": {},
   "source": [
    "# Load data"
   ]
  },
  {
   "cell_type": "code",
   "execution_count": 11,
   "id": "80dabc2b-27b5-4669-8d3e-af29719185ae",
   "metadata": {},
   "outputs": [
    {
     "name": "stdout",
     "output_type": "stream",
     "text": [
      "---------------------------------\n",
      "Shape of dataframe :  (10127, 7)\n",
      "input_dataset : s3://eliezerraj-908671954593-dataset/customer/customer_profile.csv\n",
      "data_location : s3://eliezerraj-908671954593-dataset/customer/output/train\n",
      "input_requirement : s3://eliezerraj-908671954593-dataset/customer/requirements.txt\n"
     ]
    }
   ],
   "source": [
    "bucket_name = 'eliezerraj-908671954593-dataset'\n",
    "prefix_name = 'customer'\n",
    "file_name = 'customer_profile.csv'\n",
    "\n",
    "input_dataset = 's3://{}/{}/{}'.format(bucket_name, prefix_name, file_name)\n",
    "input_requirement = 's3://{}/{}/{}'.format(bucket_name, prefix_name, 'requirements.txt')\n",
    "data_location = f\"s3://{bucket_name}/{prefix_name}/output/train\"\n",
    "\n",
    "store_data = pd.read_csv(input_dataset)\n",
    "\n",
    "print(\"---------------------------------\")\n",
    "print(\"Shape of dataframe : \", store_data.shape)\n",
    "print(\"input_dataset :\", input_dataset)\n",
    "print(\"data_location :\", data_location)\n",
    "print(\"input_requirement :\", input_requirement)\n",
    "\n",
    "from sagemaker.workflow.parameters import(\n",
    "                         ParameterInteger,\n",
    "                         ParameterString,\n",
    "                         ParameterFloat)\n",
    "\n",
    "base_job_prefix = \"customer-class-model\"\n",
    "\n",
    "processing_instance_count = ParameterInteger(name=\"ProcessingInstanceCount\",\n",
    "                                             default_value=1)\n",
    "processing_instance_type = ParameterString(name=\"ProcessingInstanceType\",\n",
    "                                           default_value=\"ml.m4.xlarge\")\n",
    "training_instance_type = ParameterString(name=\"TrainingInstanceType\",\n",
    "                                         default_value=\"ml.m4.xlarge\")\n",
    "model_approval_status = ParameterString(name=\"ModelApprovalStatus\",\n",
    "                                        default_value=\"PendingManualApproval\")"
   ]
  },
  {
   "cell_type": "markdown",
   "id": "c71cb443-ccf3-4850-b615-f3eeda9023a2",
   "metadata": {},
   "source": [
    "# Step 1 Feature Engineering"
   ]
  },
  {
   "cell_type": "code",
   "execution_count": 12,
   "id": "5ff7f8d8-e3f4-4bf3-80a3-bb7eaf090cfb",
   "metadata": {},
   "outputs": [
    {
     "name": "stderr",
     "output_type": "stream",
     "text": [
      "INFO:sagemaker.image_uris:Defaulting to only available Python version: py3\n"
     ]
    },
    {
     "name": "stdout",
     "output_type": "stream",
     "text": [
      "step_process :  ProcessingStep(name='FeaturingEngineering-Customer-Model', display_name=None, description=None, step_type=<StepTypeEnum.PROCESSING: 'Processing'>, depends_on=None)\n"
     ]
    },
    {
     "name": "stderr",
     "output_type": "stream",
     "text": [
      "/opt/conda/lib/python3.10/site-packages/sagemaker/workflow/pipeline_context.py:297: UserWarning: Running within a PipelineSession, there will be No Wait, No Logs, and No Job being started.\n",
      "  warnings.warn(\n"
     ]
    }
   ],
   "source": [
    "# Define Processing Step for Feature Engineering\n",
    "\n",
    "from sagemaker.sklearn.processing import SKLearnProcessor\n",
    "from sagemaker.processing import ProcessingInput, ProcessingOutput\n",
    "from sagemaker.workflow.steps import ProcessingStep\n",
    "\n",
    "framework_version = \"1.0-1\"\n",
    "\n",
    "sklearn_processor = SKLearnProcessor(\n",
    "    framework_version=framework_version,\n",
    "    instance_type=\"ml.m4.xlarge\",\n",
    "    instance_count=processing_instance_count,\n",
    "    base_job_name=\"mlops-pipeline-customer-feature-eng\",\n",
    "    role=role,\n",
    "    sagemaker_session=pipeline_session,\n",
    ")\n",
    "\n",
    "processor_args = sklearn_processor.run(\n",
    "    inputs=[\n",
    "        ProcessingInput(source=input_dataset,\n",
    "                        destination=\"/opt/ml/processing/input\"),\n",
    "        ProcessingInput(source=input_requirement,\n",
    "                        destination=\"/opt/ml/processing/input/req/\")\n",
    "    ],\n",
    "    outputs=[\n",
    "        ProcessingOutput(output_name=\"train\",\n",
    "                         source=\"/opt/ml/processing/train\",\n",
    "                         destination=f\"s3://{bucket_name}/{prefix_name}/output/train\"\n",
    "                        )\n",
    "    ],\n",
    "    code=f\"feature-scaled.py\",\n",
    ")\n",
    "\n",
    "step_process = ProcessingStep(\n",
    "    name=\"FeaturingEngineering-Customer-Model\",\n",
    "    step_args=processor_args\n",
    ")\n",
    "\n",
    "print(\"step_process : \", step_process)"
   ]
  },
  {
   "cell_type": "markdown",
   "id": "feb5a893-2023-4f30-884b-95bd3cfed539",
   "metadata": {},
   "source": [
    "# Step 2 Build the model"
   ]
  },
  {
   "cell_type": "code",
   "execution_count": 13,
   "id": "a70fdac3-0d7f-4046-880a-0c0aaf368112",
   "metadata": {},
   "outputs": [
    {
     "name": "stderr",
     "output_type": "stream",
     "text": [
      "WARNING:sagemaker.workflow.utilities:The input argument instance_type of function (sagemaker.image_uris.retrieve) is a pipeline variable (<class 'sagemaker.workflow.parameters.ParameterString'>), which is interpreted in pipeline execution time only. As the function needs to evaluate the argument value in SDK compile time, the default_value of this Parameter object will be used to override it. Please make sure the default_value is valid.\n",
      "INFO:sagemaker.image_uris:Same images used for training and inference. Defaulting to image scope: inference.\n",
      "WARNING:sagemaker.image_uris:Defaulting to the only supported framework/algorithm version: 1. Ignoring framework/algorithm version: latest.\n",
      "INFO:sagemaker.image_uris:Ignoring unnecessary instance type: ml.m4.xlarge.\n"
     ]
    },
    {
     "name": "stdout",
     "output_type": "stream",
     "text": [
      "sagemaker.config INFO - Not applying SDK defaults from location: /etc/xdg/sagemaker/config.yaml\n",
      "sagemaker.config INFO - Not applying SDK defaults from location: /home/sagemaker-user/.config/sagemaker/config.yaml\n",
      "step_training :  TrainingStep(name='Train-Customer-Model', display_name=None, description=None, step_type=<StepTypeEnum.TRAINING: 'Training'>, depends_on=None)\n"
     ]
    }
   ],
   "source": [
    "from sagemaker.workflow.steps import TrainingStep\n",
    "from sagemaker.inputs import TrainingInput\n",
    "\n",
    "instance_count = 1\n",
    "k_clusters = 4\n",
    "feature_dim = 4\n",
    "\n",
    "image_uri = sagemaker.image_uris.retrieve(\n",
    "                                            framework=\"kmeans\",\n",
    "                                            region=region,\n",
    "                                            version=\"latest\",\n",
    "                                            instance_type=training_instance_type,\n",
    ")\n",
    "\n",
    "kmeans = sagemaker.estimator.Estimator(\n",
    "    image_uri=image_uri,\n",
    "    role=role,\n",
    "    instance_count=instance_count,\n",
    "    instance_type=training_instance_type,\n",
    "    hyperparameters={\n",
    "        \"k\": k_clusters,\n",
    "        \"feature_dim\": feature_dim,\n",
    "    },\n",
    ")\n",
    "\n",
    "step_training = TrainingStep(\n",
    "    name=\"Train-Customer-Model\",\n",
    "    estimator=kmeans,\n",
    "    inputs={\n",
    "        \"train\": TrainingInput(\n",
    "            s3_data=step_process.properties.ProcessingOutputConfig.Outputs[\"train\"].S3Output.S3Uri, #data_location,\n",
    "            content_type=\"text/csv;label_size=0\",\n",
    "        )\n",
    "    },\n",
    ")\n",
    "\n",
    "print(\"step_training : \", step_training)"
   ]
  },
  {
   "cell_type": "markdown",
   "id": "02cb8315-eb4d-4c9e-bf13-0fef836a991a",
   "metadata": {},
   "source": [
    "# Step 3 Register Model"
   ]
  },
  {
   "cell_type": "code",
   "execution_count": 14,
   "id": "f74985a6-6962-4db3-8b1b-7d2133c0e9b2",
   "metadata": {},
   "outputs": [
    {
     "name": "stdout",
     "output_type": "stream",
     "text": [
      "step_register :  ModelStep(name='RegisterModel-Customer-Model', steps=[_RegisterModelStep(name='RegisterModel-Customer-Model-RegisterModel', display_name=None, description=None, step_type=<StepTypeEnum.REGISTER_MODEL: 'RegisterModel'>, depends_on=None)])\n"
     ]
    }
   ],
   "source": [
    "from sagemaker import Model\n",
    "from sagemaker.workflow.model_step import ModelStep\n",
    "\n",
    "model = Model(\n",
    "    image_uri=image_uri,\n",
    "    model_data=step_training.properties.ModelArtifacts.S3ModelArtifacts, #step_training.get_top_model_s3_uri(top_k=0,s3_bucket=f\"{bucket_name}/{prefix_name}\",prefix=\"output\"),\n",
    "    sagemaker_session=pipeline_session,\n",
    "    role=role,\n",
    ")\n",
    "\n",
    "from time import gmtime, strftime\n",
    "\n",
    "model_name = \"kmeans-customer-v1-\" + strftime(\"%Y-%m-%d-%H-%M-%S\", gmtime())\n",
    "\n",
    "register_args = model.register(\n",
    "                                content_types=[\"text/csv\"],\n",
    "                                response_types=[\"text/csv\"],\n",
    "                                inference_instances=[\"ml.t2.medium\", \"ml.m5.large\"],\n",
    "                                transform_instances=[\"ml.m4.xlarge\"],\n",
    "                                model_package_group_name=model_package_group_name,\n",
    "                                approval_status=model_approval_status,\n",
    ")\n",
    "\n",
    "step_register = ModelStep(\n",
    "    name=\"RegisterModel-Customer-Model\",\n",
    "    step_args=register_args\n",
    ")\n",
    "\n",
    "print(\"step_register : \", step_register)"
   ]
  },
  {
   "cell_type": "markdown",
   "id": "91e0078c-4f8f-4462-9d22-f92dcf0579c5",
   "metadata": {},
   "source": [
    "# Build and trigger the pipeline"
   ]
  },
  {
   "cell_type": "code",
   "execution_count": 15,
   "id": "dac5c643-96d4-4f6f-95ed-e14d9aa4f563",
   "metadata": {},
   "outputs": [
    {
     "name": "stdout",
     "output_type": "stream",
     "text": [
      "sagemaker.config INFO - Not applying SDK defaults from location: /etc/xdg/sagemaker/config.yaml\n",
      "sagemaker.config INFO - Not applying SDK defaults from location: /home/sagemaker-user/.config/sagemaker/config.yaml\n"
     ]
    },
    {
     "name": "stderr",
     "output_type": "stream",
     "text": [
      "WARNING:sagemaker.workflow.utilities:Popping out 'ProcessingJobName' from the pipeline definition by default since it will be overridden at pipeline execution time. Please utilize the PipelineDefinitionConfig to persist this field in the pipeline definition if desired.\n",
      "WARNING:sagemaker.workflow.utilities:Popping out 'TrainingJobName' from the pipeline definition by default since it will be overridden at pipeline execution time. Please utilize the PipelineDefinitionConfig to persist this field in the pipeline definition if desired.\n",
      "WARNING:sagemaker.workflow._utils:Popping out 'CertifyForMarketplace' from the pipeline definition since it will be overridden in pipeline execution time.\n",
      "WARNING:sagemaker.workflow.utilities:Popping out 'ModelPackageName' from the pipeline definition by default since it will be overridden at pipeline execution time. Please utilize the PipelineDefinitionConfig to persist this field in the pipeline definition if desired.\n"
     ]
    },
    {
     "name": "stdout",
     "output_type": "stream",
     "text": [
      "{'Version': '2020-12-01', 'Metadata': {}, 'Parameters': [{'Name': 'ProcessingInstanceCount', 'Type': 'Integer', 'DefaultValue': 1}, {'Name': 'ProcessingInstanceType', 'Type': 'String', 'DefaultValue': 'ml.m4.xlarge'}, {'Name': 'TrainingInstanceType', 'Type': 'String', 'DefaultValue': 'ml.m4.xlarge'}, {'Name': 'ModelApprovalStatus', 'Type': 'String', 'DefaultValue': 'PendingManualApproval'}], 'PipelineExperimentConfig': {'ExperimentName': {'Get': 'Execution.PipelineName'}, 'TrialName': {'Get': 'Execution.PipelineExecutionId'}}, 'Steps': [{'Name': 'FeaturingEngineering-Customer-Model', 'Type': 'Processing', 'Arguments': {'ProcessingResources': {'ClusterConfig': {'InstanceType': 'ml.m4.xlarge', 'InstanceCount': {'Get': 'Parameters.ProcessingInstanceCount'}, 'VolumeSizeInGB': 30}}, 'AppSpecification': {'ImageUri': '257758044811.dkr.ecr.us-east-2.amazonaws.com/sagemaker-scikit-learn:1.0-1-cpu-py3', 'ContainerEntrypoint': ['python3', '/opt/ml/processing/input/code/feature-scaled.py']}, 'RoleArn': 'arn:aws:iam::908671954593:role/service-role/AmazonSageMaker-ExecutionRole-20240324T175412', 'ProcessingInputs': [{'InputName': 'input-1', 'AppManaged': False, 'S3Input': {'S3Uri': 's3://eliezerraj-908671954593-dataset/customer/customer_profile.csv', 'LocalPath': '/opt/ml/processing/input', 'S3DataType': 'S3Prefix', 'S3InputMode': 'File', 'S3DataDistributionType': 'FullyReplicated', 'S3CompressionType': 'None'}}, {'InputName': 'input-2', 'AppManaged': False, 'S3Input': {'S3Uri': 's3://eliezerraj-908671954593-dataset/customer/requirements.txt', 'LocalPath': '/opt/ml/processing/input/req/', 'S3DataType': 'S3Prefix', 'S3InputMode': 'File', 'S3DataDistributionType': 'FullyReplicated', 'S3CompressionType': 'None'}}, {'InputName': 'code', 'AppManaged': False, 'S3Input': {'S3Uri': 's3://sagemaker-us-east-2-908671954593/sagemaker-mlops-customer-pipeline/code/9fe8f17ab85bf9bef66a178ec4e73e52/feature-scaled.py', 'LocalPath': '/opt/ml/processing/input/code', 'S3DataType': 'S3Prefix', 'S3InputMode': 'File', 'S3DataDistributionType': 'FullyReplicated', 'S3CompressionType': 'None'}}], 'ProcessingOutputConfig': {'Outputs': [{'OutputName': 'train', 'AppManaged': False, 'S3Output': {'S3Uri': 's3://eliezerraj-908671954593-dataset/customer/output/train', 'LocalPath': '/opt/ml/processing/train', 'S3UploadMode': 'EndOfJob'}}]}}}, {'Name': 'Train-Customer-Model', 'Type': 'Training', 'Arguments': {'AlgorithmSpecification': {'TrainingInputMode': 'File', 'TrainingImage': '404615174143.dkr.ecr.us-east-2.amazonaws.com/kmeans:1'}, 'OutputDataConfig': {'S3OutputPath': 's3://sagemaker-us-east-2-908671954593/'}, 'StoppingCondition': {'MaxRuntimeInSeconds': 86400}, 'ResourceConfig': {'VolumeSizeInGB': 30, 'InstanceCount': 1, 'InstanceType': {'Get': 'Parameters.TrainingInstanceType'}}, 'RoleArn': 'arn:aws:iam::908671954593:role/service-role/AmazonSageMaker-ExecutionRole-20240324T175412', 'InputDataConfig': [{'DataSource': {'S3DataSource': {'S3DataType': 'S3Prefix', 'S3Uri': {'Get': \"Steps.FeaturingEngineering-Customer-Model.ProcessingOutputConfig.Outputs['train'].S3Output.S3Uri\"}, 'S3DataDistributionType': 'FullyReplicated'}}, 'ContentType': 'text/csv;label_size=0', 'ChannelName': 'train'}], 'HyperParameters': {'k': '4', 'feature_dim': '4'}, 'DebugHookConfig': {'S3OutputPath': 's3://sagemaker-us-east-2-908671954593/', 'CollectionConfigurations': []}, 'ProfilerConfig': {'S3OutputPath': 's3://sagemaker-us-east-2-908671954593/', 'DisableProfiler': False}}}, {'Name': 'RegisterModel-Customer-Model-RegisterModel', 'Type': 'RegisterModel', 'Arguments': {'ModelPackageGroupName': 'CustomerClassModelPackageGroup', 'InferenceSpecification': {'Containers': [{'Image': '404615174143.dkr.ecr.us-east-2.amazonaws.com/kmeans:1', 'Environment': {}, 'ModelDataUrl': {'Get': 'Steps.Train-Customer-Model.ModelArtifacts.S3ModelArtifacts'}}], 'SupportedContentTypes': ['text/csv'], 'SupportedResponseMIMETypes': ['text/csv'], 'SupportedRealtimeInferenceInstanceTypes': ['ml.t2.medium', 'ml.m5.large'], 'SupportedTransformInstanceTypes': ['ml.m4.xlarge']}, 'ModelApprovalStatus': {'Get': 'Parameters.ModelApprovalStatus'}, 'SkipModelValidation': 'None'}}]}\n"
     ]
    }
   ],
   "source": [
    "import json\n",
    "from sagemaker.workflow.pipeline import Pipeline\n",
    "\n",
    "pipeline = Pipeline(\n",
    "    name=pipeline_name,\n",
    "    parameters=[\n",
    "        processing_instance_count,\n",
    "        processing_instance_type,\n",
    "        training_instance_type,\n",
    "        model_approval_status,\n",
    "        input_dataset,\n",
    "    ],\n",
    "    steps=[step_process,\n",
    "           step_training,\n",
    "           step_register\n",
    "          ],\n",
    ")\n",
    "\n",
    "definition = json.loads(pipeline.definition())\n",
    "\n",
    "print(definition)"
   ]
  },
  {
   "cell_type": "code",
   "execution_count": 16,
   "id": "aa673fd2-cc88-4aa6-a526-677ebac8919a",
   "metadata": {},
   "outputs": [
    {
     "name": "stderr",
     "output_type": "stream",
     "text": [
      "WARNING:sagemaker.workflow.utilities:Popping out 'ProcessingJobName' from the pipeline definition by default since it will be overridden at pipeline execution time. Please utilize the PipelineDefinitionConfig to persist this field in the pipeline definition if desired.\n",
      "WARNING:sagemaker.workflow.utilities:Popping out 'TrainingJobName' from the pipeline definition by default since it will be overridden at pipeline execution time. Please utilize the PipelineDefinitionConfig to persist this field in the pipeline definition if desired.\n",
      "WARNING:sagemaker.workflow.utilities:Popping out 'ModelPackageName' from the pipeline definition by default since it will be overridden at pipeline execution time. Please utilize the PipelineDefinitionConfig to persist this field in the pipeline definition if desired.\n",
      "WARNING:sagemaker.workflow.utilities:Popping out 'ProcessingJobName' from the pipeline definition by default since it will be overridden at pipeline execution time. Please utilize the PipelineDefinitionConfig to persist this field in the pipeline definition if desired.\n",
      "WARNING:sagemaker.workflow.utilities:Popping out 'TrainingJobName' from the pipeline definition by default since it will be overridden at pipeline execution time. Please utilize the PipelineDefinitionConfig to persist this field in the pipeline definition if desired.\n",
      "WARNING:sagemaker.workflow.utilities:Popping out 'ModelPackageName' from the pipeline definition by default since it will be overridden at pipeline execution time. Please utilize the PipelineDefinitionConfig to persist this field in the pipeline definition if desired.\n"
     ]
    },
    {
     "data": {
      "text/plain": [
       "_PipelineExecution(arn='arn:aws:sagemaker:us-east-2:908671954593:pipeline/sagemaker-mlops-customer-pipeline/execution/2xh2ynkpondj', sagemaker_session=<sagemaker.session.Session object at 0x7eff8fac8bb0>)"
      ]
     },
     "execution_count": 16,
     "metadata": {},
     "output_type": "execute_result"
    }
   ],
   "source": [
    "# Create a new or update existing Pipeline\n",
    "pipeline.upsert(role_arn=role)\n",
    "# start Pipeline execution\n",
    "pipeline.start()"
   ]
  },
  {
   "cell_type": "code",
   "execution_count": null,
   "id": "b8562cec-c87b-4d51-b781-d777234de5e6",
   "metadata": {},
   "outputs": [],
   "source": []
  },
  {
   "cell_type": "code",
   "execution_count": null,
   "id": "45b02472-fc71-4c2c-a70c-85ccca8c3fcc",
   "metadata": {},
   "outputs": [],
   "source": []
  }
 ],
 "metadata": {
  "kernelspec": {
   "display_name": "Python 3 (ipykernel)",
   "language": "python",
   "name": "python3"
  },
  "language_info": {
   "codemirror_mode": {
    "name": "ipython",
    "version": 3
   },
   "file_extension": ".py",
   "mimetype": "text/x-python",
   "name": "python",
   "nbconvert_exporter": "python",
   "pygments_lexer": "ipython3",
   "version": "3.10.13"
  }
 },
 "nbformat": 4,
 "nbformat_minor": 5
}
