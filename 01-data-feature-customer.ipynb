{
 "cells": [
  {
   "cell_type": "markdown",
   "id": "38918144-6910-4b1c-9087-1ef3947846c3",
   "metadata": {},
   "source": [
    "# Load Libraries"
   ]
  },
  {
   "cell_type": "code",
   "execution_count": 102,
   "id": "fb2380e9-85b5-439d-a815-875683a5d89e",
   "metadata": {},
   "outputs": [
    {
     "name": "stdout",
     "output_type": "stream",
     "text": [
      "sagemaker.config INFO - Not applying SDK defaults from location: /etc/xdg/sagemaker/config.yaml\n",
      "sagemaker.config INFO - Not applying SDK defaults from location: /home/sagemaker-user/.config/sagemaker/config.yaml\n"
     ]
    }
   ],
   "source": [
    "# pip3 install s3fs\n",
    "from sagemaker import Session\n",
    "import sagemaker\n",
    "import boto3\n",
    "import re\n",
    "from sagemaker import get_execution_role\n",
    "import numpy as np\n",
    "import pandas as pd\n",
    "import os\n",
    "\n",
    "from sagemaker import get_execution_role\n",
    "\n",
    "role = get_execution_role()"
   ]
  },
  {
   "cell_type": "markdown",
   "id": "5a946ef7-8403-45a2-b6a4-6f99efb31345",
   "metadata": {},
   "source": [
    "# Load File"
   ]
  },
  {
   "cell_type": "code",
   "execution_count": 103,
   "id": "559e7e0a-c80b-492d-8255-1e5cc3e73b59",
   "metadata": {},
   "outputs": [
    {
     "name": "stdout",
     "output_type": "stream",
     "text": [
      "---------------------------------\n",
      "Shape of dataframe '(10127, 7)':\n"
     ]
    }
   ],
   "source": [
    "bucket_name = 'eliezerraj-908671954593-dataset'\n",
    "prefix_name = 'customer'\n",
    "file_name = 'customer_profile.csv'\n",
    "\n",
    "data_location = 's3://{}/{}/{}'.format(bucket_name, prefix_name, file_name)\n",
    "\n",
    "df = pd.read_csv(data_location)\n",
    "\n",
    "print(\"---------------------------------\")\n",
    "print(f\"Shape of dataframe '{df.shape}':\")\n",
    "\n",
    "df.to_csv(file_name, index=False, header=True)"
   ]
  },
  {
   "cell_type": "markdown",
   "id": "c7dcc142-e4f4-43d4-aac1-1f9478f4537d",
   "metadata": {},
   "source": [
    "# Featuring Engeniring"
   ]
  },
  {
   "cell_type": "code",
   "execution_count": 104,
   "id": "c9b25fb5-3b1d-4f1e-a503-6e27aa77a036",
   "metadata": {},
   "outputs": [],
   "source": [
    "from sagemaker.sklearn.processing import SKLearnProcessor\n",
    "from sagemaker.processing import ProcessingInput, ProcessingOutput\n",
    "from sagemaker import get_execution_role\n",
    "\n",
    "from sagemaker import Session\n",
    "import sagemaker\n",
    "from sagemaker import get_execution_role\n",
    "from sagemaker.workflow.parameters import ( \n",
    " ParameterInteger,\n",
    " ParameterString,\n",
    " ParameterFloat)"
   ]
  },
  {
   "cell_type": "code",
   "execution_count": 105,
   "id": "f4afae59-e1de-48c3-9984-d4b643d91c82",
   "metadata": {},
   "outputs": [],
   "source": [
    "processing_instance_count = ParameterInteger(name=\"ProcessingInstanceCount\", default_value=1)"
   ]
  },
  {
   "cell_type": "code",
   "execution_count": 106,
   "id": "edb93dd4-8235-435e-bccd-b6c980dfb149",
   "metadata": {},
   "outputs": [
    {
     "name": "stdout",
     "output_type": "stream",
     "text": [
      "sagemaker.config INFO - Not applying SDK defaults from location: /etc/xdg/sagemaker/config.yaml\n",
      "sagemaker.config INFO - Not applying SDK defaults from location: /home/sagemaker-user/.config/sagemaker/config.yaml\n"
     ]
    },
    {
     "name": "stderr",
     "output_type": "stream",
     "text": [
      "INFO:sagemaker.image_uris:Defaulting to only available Python version: py3\n"
     ]
    }
   ],
   "source": [
    "framework_version = \"1.0-1\"\n",
    "sklearn_processor = SKLearnProcessor(\n",
    "    framework_version=framework_version,\n",
    "    role=role,\n",
    "    instance_type=\"ml.m5.large\",\n",
    "    instance_count=1,\n",
    "    base_job_name='mlops-customer-feature-eng'\n",
    ")"
   ]
  },
  {
   "cell_type": "code",
   "execution_count": 107,
   "id": "f04550d4-8652-4b4d-be05-8696ad058b2f",
   "metadata": {},
   "outputs": [],
   "source": [
    "bucket_name = 'eliezerraj-908671954593-dataset'\n",
    "prefix_name = 'customer/notebook'\n",
    "file_name = 'customer_profile.csv'"
   ]
  },
  {
   "cell_type": "code",
   "execution_count": 108,
   "id": "47f0c827-1f7f-4867-9085-6be49a8632a0",
   "metadata": {},
   "outputs": [
    {
     "name": "stdout",
     "output_type": "stream",
     "text": [
      "---------------------------------\n",
      "bucket_name 'eliezerraj-908671954593-dataset':\n",
      "prefix_name 'customer/notebook':\n",
      "input_source 's3://eliezerraj-908671954593-dataset/customer/notebook/customer_profile.csv':\n",
      "data_location 's3://eliezerraj-908671954593-dataset/customer/notebook/requirements.txt':\n"
     ]
    }
   ],
   "source": [
    "input_source = 's3://{}/{}/{}'.format(bucket_name, prefix_name, file_name)\n",
    "data_location = 's3://{}/{}/{}'.format(bucket_name, prefix_name, 'requirements.txt')\n",
    "\n",
    "# Load Files\n",
    "boto3.Session().resource('s3').Bucket(bucket_name).Object(os.path.join(prefix_name, 'requirements.txt')).upload_file('requirements.txt')\n",
    "boto3.Session().resource('s3').Bucket(bucket_name).Object(os.path.join(prefix_name, file_name)).upload_file(file_name)\n",
    "\n",
    "print(\"---------------------------------\")\n",
    "print(f\"bucket_name '{bucket_name}':\")\n",
    "print(f\"prefix_name '{prefix_name}':\")\n",
    "print(f\"input_source '{input_source}':\")\n",
    "print(f\"data_location '{data_location}':\")"
   ]
  },
  {
   "cell_type": "code",
   "execution_count": 109,
   "id": "529ada33-ee68-4c54-a1dc-b806b0994e60",
   "metadata": {},
   "outputs": [
    {
     "name": "stderr",
     "output_type": "stream",
     "text": [
      "INFO:sagemaker:Creating processing-job with name mlops-customer-feature-eng-2024-04-26-00-57-56-282\n"
     ]
    },
    {
     "name": "stdout",
     "output_type": "stream",
     "text": [
      "............................\u001b[34mCollecting imbalanced-learn\n",
      "  Downloading imbalanced_learn-0.12.2-py3-none-any.whl.metadata (8.2 kB)\u001b[0m\n",
      "\u001b[34mRequirement already satisfied: numpy>=1.17.3 in /miniconda3/lib/python3.8/site-packages (from imbalanced-learn) (1.24.1)\u001b[0m\n",
      "\u001b[34mRequirement already satisfied: scipy>=1.5.0 in /miniconda3/lib/python3.8/site-packages (from imbalanced-learn) (1.8.0)\u001b[0m\n",
      "\u001b[34mRequirement already satisfied: scikit-learn>=1.0.2 in /miniconda3/lib/python3.8/site-packages (from imbalanced-learn) (1.0.2)\u001b[0m\n",
      "\u001b[34mRequirement already satisfied: joblib>=1.1.1 in /miniconda3/lib/python3.8/site-packages (from imbalanced-learn) (1.3.2)\u001b[0m\n",
      "\u001b[34mRequirement already satisfied: threadpoolctl>=2.0.0 in /miniconda3/lib/python3.8/site-packages (from imbalanced-learn) (3.2.0)\u001b[0m\n",
      "\u001b[34mDownloading imbalanced_learn-0.12.2-py3-none-any.whl (257 kB)\n",
      "   ━━━━━━━━━━━━━━━━━━━━━━━━━━━━━━━━━━━━━━━━ 258.0/258.0 kB 7.6 MB/s eta 0:00:00\u001b[0m\n",
      "\u001b[34mInstalling collected packages: imbalanced-learn\u001b[0m\n",
      "\u001b[34mSuccessfully installed imbalanced-learn-0.12.2\u001b[0m\n",
      "\u001b[34mWARNING: Running pip as the 'root' user can result in broken permissions and conflicting behaviour with the system package manager. It is recommended to use a virtual environment instead: https://pip.pypa.io/warnings/venv\u001b[0m\n",
      "\u001b[34m-------------------- dataframe data  ----------------------------\u001b[0m\n",
      "\u001b[34mshape :  (10127, 7)\u001b[0m\n",
      "\u001b[34m-------------------- df_customera  ----------------------------\n",
      "   CLIENTNUM  Customer_Age  ... Marital_Status  Income_Category\u001b[0m\n",
      "\u001b[34m0  768805383            45  ...        Married      $60K - $80K\u001b[0m\n",
      "\u001b[34m1  818770008            49  ...         Single   Less than $40K\u001b[0m\n",
      "\u001b[34m2  713982108            51  ...        Married     $80K - $120K\u001b[0m\n",
      "\u001b[34m[3 rows x 7 columns]\u001b[0m\n",
      "\u001b[34m-------------------- df_training  ----------------------------\n",
      "   Customer_Age  ...  Income_Category_Quality\u001b[0m\n",
      "\u001b[34m0            45  ...                        3\u001b[0m\n",
      "\u001b[34m1            49  ...                        1\u001b[0m\n",
      "\u001b[34m2            51  ...                        4\u001b[0m\n",
      "\u001b[34m[3 rows x 4 columns]\u001b[0m\n",
      "\u001b[34m## Processing completed. Exiting.\u001b[0m\n",
      "\n"
     ]
    }
   ],
   "source": [
    "processor_args = sklearn_processor.run(\n",
    "    inputs=[\n",
    "        ProcessingInput(source=input_source,\n",
    "                        destination=\"/opt/ml/processing/input\"),\n",
    "        ProcessingInput(source=data_location,\n",
    "                        destination=\"/opt/ml/processing/input/req/\")\n",
    "    ],\n",
    "    outputs=[\n",
    "        ProcessingOutput(output_name=\"train\",\n",
    "                         source=\"/opt/ml/processing/train\",\n",
    "                         destination=f\"s3://{bucket_name}/{prefix_name}/output/train\"),\n",
    "    ],\n",
    "    code=f\"feature.py\",\n",
    ")"
   ]
  },
  {
   "cell_type": "code",
   "execution_count": null,
   "id": "7470042b-8511-4adf-94e3-a1bd244608ef",
   "metadata": {},
   "outputs": [],
   "source": []
  },
  {
   "cell_type": "code",
   "execution_count": null,
   "id": "48ef5ac8-1c4f-4573-a6d3-299f7631eb87",
   "metadata": {},
   "outputs": [],
   "source": []
  }
 ],
 "metadata": {
  "kernelspec": {
   "display_name": "Python 3 (ipykernel)",
   "language": "python",
   "name": "python3"
  },
  "language_info": {
   "codemirror_mode": {
    "name": "ipython",
    "version": 3
   },
   "file_extension": ".py",
   "mimetype": "text/x-python",
   "name": "python",
   "nbconvert_exporter": "python",
   "pygments_lexer": "ipython3",
   "version": "3.10.13"
  }
 },
 "nbformat": 4,
 "nbformat_minor": 5
}
