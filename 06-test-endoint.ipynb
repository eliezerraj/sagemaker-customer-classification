{
 "cells": [
  {
   "cell_type": "code",
   "execution_count": 15,
   "id": "e2a93969-750e-42f6-9cef-4d50029998b1",
   "metadata": {},
   "outputs": [],
   "source": [
    "import boto3\n",
    "from sagemaker import Session\n",
    "from sagemaker import get_execution_role\n",
    "\n",
    "client = boto3.client(service_name=\"sagemaker\")\n",
    "runtime = boto3.client(service_name=\"sagemaker-runtime\")"
   ]
  },
  {
   "cell_type": "code",
   "execution_count": 16,
   "id": "4f3068fb-fb36-4639-beb3-a68fdf43071d",
   "metadata": {},
   "outputs": [
    {
     "name": "stdout",
     "output_type": "stream",
     "text": [
      "model loaded !\n"
     ]
    }
   ],
   "source": [
    "# Load the scaler\n",
    "import s3fs\n",
    "import os\n",
    "import joblib\n",
    "\n",
    "fs = s3fs.S3FileSystem()\n",
    "output_file = \"s3://eliezerraj-908671954593-dataset/customer/scaler.joblib\"\n",
    "\n",
    "with fs.open(output_file, 'rb') as f:\n",
    "    scaler_load = joblib.load(f)\n",
    "\n",
    "print(\"model loaded !\")"
   ]
  },
  {
   "cell_type": "code",
   "execution_count": 17,
   "id": "d3c8ee28-8df2-4cab-b5bd-a200c19dbb00",
   "metadata": {},
   "outputs": [
    {
     "name": "stdout",
     "output_type": "stream",
     "text": [
      "customer_01:  [[50.  1.  3.  4.]]\n"
     ]
    },
    {
     "data": {
      "text/plain": [
       "array([[0., 0., 0., 0.]], dtype=float32)"
      ]
     },
     "execution_count": 17,
     "metadata": {},
     "output_type": "execute_result"
    }
   ],
   "source": [
    "import numpy as np\n",
    "\n",
    "customer_01 = np.array([[50.0, 1.0, 3.0, 4.0]])\n",
    "\n",
    "print(\"customer_01: \", customer_01)\n",
    "\n",
    "df_payload_scaled = scaler_load.fit_transform(customer_01).astype('float32')\n",
    "df_payload_scaled"
   ]
  },
  {
   "cell_type": "code",
   "execution_count": 9,
   "id": "ba6350b2-6057-46cb-b6f1-eb52e6aeec5d",
   "metadata": {},
   "outputs": [
    {
     "name": "stdout",
     "output_type": "stream",
     "text": [
      "{\"predictions\": [{\"closest_cluster\": 2.0, \"distance_to_cluster\": 1.6833887100219727}]}\n"
     ]
    }
   ],
   "source": [
    "import numpy as np\n",
    "# Endpoint invocation\n",
    "endpoint_name=\"kmeans-2024-04-29-14-58-01-252\"\n",
    "payload = b\"0.3335704,2.0431986,0.8342485,-0.736292\"\n",
    "\n",
    "response = runtime.invoke_endpoint(\n",
    "    EndpointName=endpoint_name,\n",
    "    Body=payload,\n",
    "    ContentType=\"text/csv\",\n",
    ")\n",
    "\n",
    "y_predict = response[\"Body\"].read().decode()\n",
    "print(y_predict)"
   ]
  },
  {
   "cell_type": "code",
   "execution_count": null,
   "id": "2cfeaeca-1dd1-4936-94e1-4b7b4dda2b42",
   "metadata": {},
   "outputs": [],
   "source": []
  },
  {
   "cell_type": "code",
   "execution_count": 12,
   "id": "90d358c0-b0d4-456e-9066-442398788aa6",
   "metadata": {},
   "outputs": [
    {
     "data": {
      "text/html": [
       "<div>\n",
       "<style scoped>\n",
       "    .dataframe tbody tr th:only-of-type {\n",
       "        vertical-align: middle;\n",
       "    }\n",
       "\n",
       "    .dataframe tbody tr th {\n",
       "        vertical-align: top;\n",
       "    }\n",
       "\n",
       "    .dataframe thead th {\n",
       "        text-align: right;\n",
       "    }\n",
       "</style>\n",
       "<table border=\"1\" class=\"dataframe\">\n",
       "  <thead>\n",
       "    <tr style=\"text-align: right;\">\n",
       "      <th></th>\n",
       "      <th>Customer_Age</th>\n",
       "      <th>Dependent_count</th>\n",
       "      <th>Education_Level_Quality</th>\n",
       "      <th>Income_Category_Quality</th>\n",
       "    </tr>\n",
       "  </thead>\n",
       "  <tbody>\n",
       "    <tr>\n",
       "      <th>0</th>\n",
       "      <td>20</td>\n",
       "      <td>1</td>\n",
       "      <td>1</td>\n",
       "      <td>1</td>\n",
       "    </tr>\n",
       "  </tbody>\n",
       "</table>\n",
       "</div>"
      ],
      "text/plain": [
       "   Customer_Age  Dependent_count  Education_Level_Quality  \\\n",
       "0            20                1                        1   \n",
       "\n",
       "   Income_Category_Quality  \n",
       "0                        1  "
      ]
     },
     "execution_count": 12,
     "metadata": {},
     "output_type": "execute_result"
    }
   ],
   "source": [
    "import pandas as pd\n",
    "\n",
    "df_new_customer_data = [{ 'Customer_Age': 20, \n",
    "                         'Dependent_count': 1, \n",
    "                         'Education_Level_Quality': 1, \n",
    "                         'Income_Category_Quality': 1 }]\n",
    "\n",
    "df_new_customer_data = pd.DataFrame(df_new_customer_data)\n",
    "df_new_customer_data"
   ]
  },
  {
   "cell_type": "code",
   "execution_count": 13,
   "id": "b5b2e05a-43db-4f81-b436-78dea8ab3b54",
   "metadata": {},
   "outputs": [
    {
     "data": {
      "text/plain": [
       "array([[20.,  1.,  1.,  1.]], dtype=float32)"
      ]
     },
     "execution_count": 13,
     "metadata": {},
     "output_type": "execute_result"
    }
   ],
   "source": [
    "df_data_scaled = df_new_customer_data.to_numpy().astype('float32')\n",
    "df_data_scaled"
   ]
  },
  {
   "cell_type": "code",
   "execution_count": 14,
   "id": "328f7676-da86-4297-8f4b-a7b08d179e17",
   "metadata": {},
   "outputs": [
    {
     "data": {
      "text/plain": [
       "array([[0., 0., 0., 0.]], dtype=float32)"
      ]
     },
     "execution_count": 14,
     "metadata": {},
     "output_type": "execute_result"
    }
   ],
   "source": [
    "df_payload_scaled = scaler_load.fit_transform(df_data_scaled).astype('float32')\n",
    "df_payload_scaled"
   ]
  },
  {
   "cell_type": "code",
   "execution_count": null,
   "id": "414a690c-be26-493a-a586-b1ac9bb786a6",
   "metadata": {},
   "outputs": [],
   "source": []
  }
 ],
 "metadata": {
  "kernelspec": {
   "display_name": "Python 3 (ipykernel)",
   "language": "python",
   "name": "python3"
  },
  "language_info": {
   "codemirror_mode": {
    "name": "ipython",
    "version": 3
   },
   "file_extension": ".py",
   "mimetype": "text/x-python",
   "name": "python",
   "nbconvert_exporter": "python",
   "pygments_lexer": "ipython3",
   "version": "3.10.13"
  }
 },
 "nbformat": 4,
 "nbformat_minor": 5
}
