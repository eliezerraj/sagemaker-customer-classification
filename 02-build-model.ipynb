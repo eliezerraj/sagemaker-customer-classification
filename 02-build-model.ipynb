{
 "cells": [
  {
   "cell_type": "markdown",
   "id": "6b0f33af-851a-46f3-a893-9f97042f0b7a",
   "metadata": {},
   "source": [
    "# Load Libraries"
   ]
  },
  {
   "cell_type": "code",
   "execution_count": 2,
   "id": "c2860dfd-5c86-43c4-b191-e7ac3dfe7070",
   "metadata": {},
   "outputs": [],
   "source": [
    "# pip3 install s3fs\n",
    "from sagemaker import Session\n",
    "import sagemaker\n",
    "import boto3\n",
    "import re\n",
    "from sagemaker import get_execution_role\n",
    "import numpy as np\n",
    "import pandas as pd\n",
    "import os"
   ]
  },
  {
   "cell_type": "code",
   "execution_count": 3,
   "id": "48268df7-2cfe-4189-b3de-f66f5326c8af",
   "metadata": {},
   "outputs": [
    {
     "name": "stdout",
     "output_type": "stream",
     "text": [
      "sagemaker.config INFO - Not applying SDK defaults from location: /etc/xdg/sagemaker/config.yaml\n",
      "sagemaker.config INFO - Not applying SDK defaults from location: /home/sagemaker-user/.config/sagemaker/config.yaml\n",
      "---------------------------------\n",
      "bucket_name 'eliezerraj-908671954593-dataset':\n",
      "prefix_name 'customer/notebook/output':\n",
      "data_location 's3://eliezerraj-908671954593-dataset/customer/notebook/output/train':\n",
      "output_path 's3://eliezerraj-908671954593-dataset/customer/notebook/output':\n"
     ]
    }
   ],
   "source": [
    "role = get_execution_role()\n",
    "\n",
    "bucket_name = 'eliezerraj-908671954593-dataset'\n",
    "prefix_name = 'customer/notebook/output'\n",
    "output_path =  f's3://{bucket_name}/{prefix_name}'\n",
    "data_location = f\"s3://{bucket_name}/{prefix_name}/train\"\n",
    "\n",
    "train_data_file = f's3://{bucket_name}/{prefix_name}/train/train_data.csv'\n",
    "\n",
    "print(\"---------------------------------\")\n",
    "print(f\"bucket_name '{bucket_name}':\")\n",
    "print(f\"prefix_name '{prefix_name}':\")\n",
    "print(f\"data_location '{data_location}':\")\n",
    "print(f\"output_path '{output_path}':\")"
   ]
  },
  {
   "cell_type": "code",
   "execution_count": 4,
   "id": "64004664-949d-4f18-9b31-a50a234895d1",
   "metadata": {
    "scrolled": true
   },
   "outputs": [
    {
     "data": {
      "text/plain": [
       "array([[-0.16540559,  0.50336814, -0.5026349 ,  0.6200389 ],\n",
       "       [ 0.3335704 ,  2.0431986 ,  0.8342485 , -0.736292  ],\n",
       "       [ 0.58305836,  0.50336814,  0.8342485 ,  1.2982044 ],\n",
       "       ...,\n",
       "       [-0.29014957, -1.0364624 , -0.5026349 , -0.736292  ],\n",
       "       [-2.0365655 , -0.26654714,  0.8342485 , -0.05812655],\n",
       "       [-0.41489357, -0.26654714,  0.8342485 , -0.736292  ]],\n",
       "      dtype=float32)"
      ]
     },
     "execution_count": 4,
     "metadata": {},
     "output_type": "execute_result"
    }
   ],
   "source": [
    "#from sklearn.preprocessing import StandardScaler\n",
    "#scaler = StandardScaler()\n",
    "\n",
    "#df_data = pd.read_csv(train_data_file, skiprows = 1, header=None)\n",
    "#df_data_scaled = scaler.fit_transform(df_data).astype('float32')\n",
    "#df_data_scaled\n",
    "\n",
    "# Id the dataset is already scaled\n",
    "df_data = pd.read_csv(train_data_file, header=None)\n",
    "df_data_scaled = df_data.to_numpy().astype('float32')\n",
    "df_data_scaled"
   ]
  },
  {
   "cell_type": "markdown",
   "id": "b542b90d-02ab-4c59-9736-dbb2d00102d7",
   "metadata": {},
   "source": [
    "# Build Model"
   ]
  },
  {
   "cell_type": "code",
   "execution_count": 5,
   "id": "af697393-889f-46ce-8b7c-23534c2486f1",
   "metadata": {},
   "outputs": [
    {
     "name": "stdout",
     "output_type": "stream",
     "text": [
      "sagemaker.config INFO - Not applying SDK defaults from location: /etc/xdg/sagemaker/config.yaml\n",
      "sagemaker.config INFO - Not applying SDK defaults from location: /home/sagemaker-user/.config/sagemaker/config.yaml\n"
     ]
    }
   ],
   "source": [
    "from sagemaker import KMeans\n",
    "\n",
    "kmeans = KMeans(role=role,\n",
    "                instance_count=1,\n",
    "                instance_type='ml.m4.xlarge',\n",
    "                data_location=data_location,\n",
    "                output_path=output_path,\n",
    "                init_method='kmeans++',\n",
    "                k=5,\n",
    "                epochs=5)"
   ]
  },
  {
   "cell_type": "code",
   "execution_count": 6,
   "id": "8d5361ca-a315-4eac-b8e6-3735e608e03b",
   "metadata": {},
   "outputs": [
    {
     "name": "stderr",
     "output_type": "stream",
     "text": [
      "INFO:sagemaker.image_uris:Same images used for training and inference. Defaulting to image scope: inference.\n",
      "INFO:sagemaker.image_uris:Ignoring unnecessary instance type: None.\n",
      "INFO:sagemaker:Creating training-job with name: kmeans-2024-04-27-02-42-52-576\n"
     ]
    },
    {
     "name": "stdout",
     "output_type": "stream",
     "text": [
      "2024-04-27 02:42:52 Starting - Starting the training job...\n",
      "2024-04-27 02:43:06 Starting - Preparing the instances for training...\n",
      "2024-04-27 02:43:42 Downloading - Downloading input data...\n",
      "2024-04-27 02:44:12 Downloading - Downloading the training image.........\n",
      "2024-04-27 02:45:33 Training - Training image download completed. Training in progress..\u001b[34mDocker entrypoint called with argument(s): train\u001b[0m\n",
      "\u001b[34mRunning default environment configuration script\u001b[0m\n",
      "\u001b[34m[04/27/2024 02:45:50 INFO 140070763009856] Reading default configuration from /opt/amazon/lib/python3.8/site-packages/algorithm/resources/default-input.json: {'init_method': 'random', 'mini_batch_size': '5000', 'epochs': '1', 'extra_center_factor': 'auto', 'local_lloyd_max_iter': '300', 'local_lloyd_tol': '0.0001', 'local_lloyd_init_method': 'kmeans++', 'local_lloyd_num_trials': 'auto', 'half_life_time_size': '0', 'eval_metrics': '[\"msd\"]', 'force_dense': 'true', '_disable_wait_to_read': 'false', '_enable_profiler': 'false', '_kvstore': 'auto', '_log_level': 'info', '_num_gpus': 'auto', '_num_kv_servers': '1', '_num_slices': '1', '_tuning_objective_metric': ''}\u001b[0m\n",
      "\u001b[34m[04/27/2024 02:45:50 INFO 140070763009856] Merging with provided configuration from /opt/ml/input/config/hyperparameters.json: {'epochs': '5', 'feature_dim': '4', 'force_dense': 'True', 'init_method': 'kmeans++', 'k': '5'}\u001b[0m\n",
      "\u001b[34m[04/27/2024 02:45:50 INFO 140070763009856] Final configuration: {'init_method': 'kmeans++', 'mini_batch_size': '5000', 'epochs': '5', 'extra_center_factor': 'auto', 'local_lloyd_max_iter': '300', 'local_lloyd_tol': '0.0001', 'local_lloyd_init_method': 'kmeans++', 'local_lloyd_num_trials': 'auto', 'half_life_time_size': '0', 'eval_metrics': '[\"msd\"]', 'force_dense': 'True', '_disable_wait_to_read': 'false', '_enable_profiler': 'false', '_kvstore': 'auto', '_log_level': 'info', '_num_gpus': 'auto', '_num_kv_servers': '1', '_num_slices': '1', '_tuning_objective_metric': '', 'feature_dim': '4', 'k': '5'}\u001b[0m\n",
      "\u001b[34m/opt/amazon/lib/python3.8/site-packages/mxnet/model.py:97: SyntaxWarning: \"is\" with a literal. Did you mean \"==\"?\n",
      "  if num_device is 1 and 'dist' not in kvstore:\u001b[0m\n",
      "\u001b[34m[04/27/2024 02:45:52 WARNING 140070763009856] Loggers have already been setup.\u001b[0m\n",
      "\u001b[34m[04/27/2024 02:45:52 INFO 140070763009856] Final configuration: {'init_method': 'kmeans++', 'mini_batch_size': '5000', 'epochs': '5', 'extra_center_factor': 'auto', 'local_lloyd_max_iter': '300', 'local_lloyd_tol': '0.0001', 'local_lloyd_init_method': 'kmeans++', 'local_lloyd_num_trials': 'auto', 'half_life_time_size': '0', 'eval_metrics': '[\"msd\"]', 'force_dense': 'True', '_disable_wait_to_read': 'false', '_enable_profiler': 'false', '_kvstore': 'auto', '_log_level': 'info', '_num_gpus': 'auto', '_num_kv_servers': '1', '_num_slices': '1', '_tuning_objective_metric': '', 'feature_dim': '4', 'k': '5'}\u001b[0m\n",
      "\u001b[34m[04/27/2024 02:45:52 WARNING 140070763009856] Loggers have already been setup.\u001b[0m\n",
      "\u001b[34mProcess 7 is a worker.\u001b[0m\n",
      "\u001b[34m[04/27/2024 02:45:52 INFO 140070763009856] Using default worker.\u001b[0m\n",
      "\u001b[34m[04/27/2024 02:45:52 INFO 140070763009856] Loaded iterator creator application/x-recordio-protobuf for content type ('application/x-recordio-protobuf', '1.0')\u001b[0m\n",
      "\u001b[34m[04/27/2024 02:45:52 INFO 140070763009856] Create Store: local\u001b[0m\n",
      "\u001b[34m/opt/amazon/python3.8/lib/python3.8/subprocess.py:848: RuntimeWarning: line buffering (buffering=1) isn't supported in binary mode, the default buffer size will be used\n",
      "  self.stdout = io.open(c2pread, 'rb', bufsize)\u001b[0m\n",
      "\u001b[34m[04/27/2024 02:45:52 INFO 140070763009856] nvidia-smi: took 0.032 seconds to run.\u001b[0m\n",
      "\u001b[34m[04/27/2024 02:45:52 INFO 140070763009856] nvidia-smi identified 0 GPUs.\u001b[0m\n",
      "\u001b[34m[04/27/2024 02:45:52 INFO 140070763009856] Number of GPUs being used: 0\u001b[0m\n",
      "\u001b[34m[04/27/2024 02:45:52 INFO 140070763009856] Checkpoint loading and saving are disabled.\u001b[0m\n",
      "\u001b[34m[04/27/2024 02:45:52 INFO 140070763009856] Setting up with params: {'init_method': 'kmeans++', 'mini_batch_size': '5000', 'epochs': '5', 'extra_center_factor': 'auto', 'local_lloyd_max_iter': '300', 'local_lloyd_tol': '0.0001', 'local_lloyd_init_method': 'kmeans++', 'local_lloyd_num_trials': 'auto', 'half_life_time_size': '0', 'eval_metrics': '[\"msd\"]', 'force_dense': 'True', '_disable_wait_to_read': 'false', '_enable_profiler': 'false', '_kvstore': 'auto', '_log_level': 'info', '_num_gpus': 'auto', '_num_kv_servers': '1', '_num_slices': '1', '_tuning_objective_metric': '', 'feature_dim': '4', 'k': '5'}\u001b[0m\n",
      "\u001b[34m[04/27/2024 02:45:52 INFO 140070763009856] 'extra_center_factor' was set to 'auto', evaluated to 10.\u001b[0m\n",
      "\u001b[34m[04/27/2024 02:45:52 INFO 140070763009856] Number of GPUs being used: 0\u001b[0m\n",
      "\u001b[34m[04/27/2024 02:45:52 INFO 140070763009856] number of center slices 1\u001b[0m\n",
      "\u001b[34m#metrics {\"StartTime\": 1714185952.9486005, \"EndTime\": 1714185952.9486365, \"Dimensions\": {\"Algorithm\": \"AWS/KMeansWebscale\", \"Host\": \"algo-1\", \"Operation\": \"training\", \"Meta\": \"init_train_data_iter\"}, \"Metrics\": {\"Total Records Seen\": {\"sum\": 5000.0, \"count\": 1, \"min\": 5000, \"max\": 5000}, \"Total Batches Seen\": {\"sum\": 1.0, \"count\": 1, \"min\": 1, \"max\": 1}, \"Max Records Seen Between Resets\": {\"sum\": 5000.0, \"count\": 1, \"min\": 5000, \"max\": 5000}, \"Max Batches Seen Between Resets\": {\"sum\": 1.0, \"count\": 1, \"min\": 1, \"max\": 1}, \"Reset Count\": {\"sum\": 0.0, \"count\": 1, \"min\": 0, \"max\": 0}, \"Number of Records Since Last Reset\": {\"sum\": 5000.0, \"count\": 1, \"min\": 5000, \"max\": 5000}, \"Number of Batches Since Last Reset\": {\"sum\": 1.0, \"count\": 1, \"min\": 1, \"max\": 1}}}\u001b[0m\n",
      "\u001b[34m[2024-04-27 02:45:52.948] [tensorio] [info] epoch_stats={\"data_pipeline\": \"/opt/ml/input/data/train\", \"epoch\": 0, \"duration\": 28, \"num_examples\": 1, \"num_bytes\": 200000}\u001b[0m\n",
      "\u001b[34m[2024-04-27 02:45:52.980] [tensorio] [info] epoch_stats={\"data_pipeline\": \"/opt/ml/input/data/train\", \"epoch\": 1, \"duration\": 30, \"num_examples\": 3, \"num_bytes\": 405080}\u001b[0m\n",
      "\u001b[34m[04/27/2024 02:45:52 INFO 140070763009856] processed a total of 10127 examples\u001b[0m\n",
      "\u001b[34m[04/27/2024 02:45:52 INFO 140070763009856] #progress_metric: host=algo-1, completed 20.0 % of epochs\u001b[0m\n",
      "\u001b[34m#metrics {\"StartTime\": 1714185952.949037, \"EndTime\": 1714185952.9811819, \"Dimensions\": {\"Algorithm\": \"AWS/KMeansWebscale\", \"Host\": \"algo-1\", \"Operation\": \"training\", \"epoch\": 0, \"Meta\": \"training_data_iter\"}, \"Metrics\": {\"Total Records Seen\": {\"sum\": 15127.0, \"count\": 1, \"min\": 15127, \"max\": 15127}, \"Total Batches Seen\": {\"sum\": 4.0, \"count\": 1, \"min\": 4, \"max\": 4}, \"Max Records Seen Between Resets\": {\"sum\": 10127.0, \"count\": 1, \"min\": 10127, \"max\": 10127}, \"Max Batches Seen Between Resets\": {\"sum\": 3.0, \"count\": 1, \"min\": 3, \"max\": 3}, \"Reset Count\": {\"sum\": 1.0, \"count\": 1, \"min\": 1, \"max\": 1}, \"Number of Records Since Last Reset\": {\"sum\": 10127.0, \"count\": 1, \"min\": 10127, \"max\": 10127}, \"Number of Batches Since Last Reset\": {\"sum\": 3.0, \"count\": 1, \"min\": 3, \"max\": 3}}}\u001b[0m\n",
      "\u001b[34m[04/27/2024 02:45:52 INFO 140070763009856] #throughput_metric: host=algo-1, train throughput=312691.61734111706 records/second\u001b[0m\n",
      "\u001b[34m[2024-04-27 02:45:53.012] [tensorio] [info] epoch_stats={\"data_pipeline\": \"/opt/ml/input/data/train\", \"epoch\": 3, \"duration\": 30, \"num_examples\": 3, \"num_bytes\": 405080}\u001b[0m\n",
      "\u001b[34m[04/27/2024 02:45:53 INFO 140070763009856] processed a total of 10127 examples\u001b[0m\n",
      "\u001b[34m[04/27/2024 02:45:53 INFO 140070763009856] #progress_metric: host=algo-1, completed 40.0 % of epochs\u001b[0m\n",
      "\u001b[34m#metrics {\"StartTime\": 1714185952.9817605, \"EndTime\": 1714185953.012838, \"Dimensions\": {\"Algorithm\": \"AWS/KMeansWebscale\", \"Host\": \"algo-1\", \"Operation\": \"training\", \"epoch\": 1, \"Meta\": \"training_data_iter\"}, \"Metrics\": {\"Total Records Seen\": {\"sum\": 25254.0, \"count\": 1, \"min\": 25254, \"max\": 25254}, \"Total Batches Seen\": {\"sum\": 7.0, \"count\": 1, \"min\": 7, \"max\": 7}, \"Max Records Seen Between Resets\": {\"sum\": 10127.0, \"count\": 1, \"min\": 10127, \"max\": 10127}, \"Max Batches Seen Between Resets\": {\"sum\": 3.0, \"count\": 1, \"min\": 3, \"max\": 3}, \"Reset Count\": {\"sum\": 2.0, \"count\": 1, \"min\": 2, \"max\": 2}, \"Number of Records Since Last Reset\": {\"sum\": 10127.0, \"count\": 1, \"min\": 10127, \"max\": 10127}, \"Number of Batches Since Last Reset\": {\"sum\": 3.0, \"count\": 1, \"min\": 3, \"max\": 3}}}\u001b[0m\n",
      "\u001b[34m[04/27/2024 02:45:53 INFO 140070763009856] #throughput_metric: host=algo-1, train throughput=324180.2450524709 records/second\u001b[0m\n",
      "\u001b[34m[2024-04-27 02:45:53.041] [tensorio] [info] epoch_stats={\"data_pipeline\": \"/opt/ml/input/data/train\", \"epoch\": 5, \"duration\": 28, \"num_examples\": 3, \"num_bytes\": 405080}\u001b[0m\n",
      "\u001b[34m[04/27/2024 02:45:53 INFO 140070763009856] processed a total of 10127 examples\u001b[0m\n",
      "\u001b[34m[04/27/2024 02:45:53 INFO 140070763009856] #progress_metric: host=algo-1, completed 60.0 % of epochs\u001b[0m\n",
      "\u001b[34m#metrics {\"StartTime\": 1714185953.0131571, \"EndTime\": 1714185953.0420768, \"Dimensions\": {\"Algorithm\": \"AWS/KMeansWebscale\", \"Host\": \"algo-1\", \"Operation\": \"training\", \"epoch\": 2, \"Meta\": \"training_data_iter\"}, \"Metrics\": {\"Total Records Seen\": {\"sum\": 35381.0, \"count\": 1, \"min\": 35381, \"max\": 35381}, \"Total Batches Seen\": {\"sum\": 10.0, \"count\": 1, \"min\": 10, \"max\": 10}, \"Max Records Seen Between Resets\": {\"sum\": 10127.0, \"count\": 1, \"min\": 10127, \"max\": 10127}, \"Max Batches Seen Between Resets\": {\"sum\": 3.0, \"count\": 1, \"min\": 3, \"max\": 3}, \"Reset Count\": {\"sum\": 3.0, \"count\": 1, \"min\": 3, \"max\": 3}, \"Number of Records Since Last Reset\": {\"sum\": 10127.0, \"count\": 1, \"min\": 10127, \"max\": 10127}, \"Number of Batches Since Last Reset\": {\"sum\": 3.0, \"count\": 1, \"min\": 3, \"max\": 3}}}\u001b[0m\n",
      "\u001b[34m[04/27/2024 02:45:53 INFO 140070763009856] #throughput_metric: host=algo-1, train throughput=348124.5163056396 records/second\u001b[0m\n",
      "\u001b[34m[2024-04-27 02:45:53.071] [tensorio] [info] epoch_stats={\"data_pipeline\": \"/opt/ml/input/data/train\", \"epoch\": 7, \"duration\": 28, \"num_examples\": 3, \"num_bytes\": 405080}\u001b[0m\n",
      "\u001b[34m[04/27/2024 02:45:53 INFO 140070763009856] processed a total of 10127 examples\u001b[0m\n",
      "\u001b[34m[04/27/2024 02:45:53 INFO 140070763009856] #progress_metric: host=algo-1, completed 80.0 % of epochs\u001b[0m\n",
      "\u001b[34m#metrics {\"StartTime\": 1714185953.042393, \"EndTime\": 1714185953.0716674, \"Dimensions\": {\"Algorithm\": \"AWS/KMeansWebscale\", \"Host\": \"algo-1\", \"Operation\": \"training\", \"epoch\": 3, \"Meta\": \"training_data_iter\"}, \"Metrics\": {\"Total Records Seen\": {\"sum\": 45508.0, \"count\": 1, \"min\": 45508, \"max\": 45508}, \"Total Batches Seen\": {\"sum\": 13.0, \"count\": 1, \"min\": 13, \"max\": 13}, \"Max Records Seen Between Resets\": {\"sum\": 10127.0, \"count\": 1, \"min\": 10127, \"max\": 10127}, \"Max Batches Seen Between Resets\": {\"sum\": 3.0, \"count\": 1, \"min\": 3, \"max\": 3}, \"Reset Count\": {\"sum\": 4.0, \"count\": 1, \"min\": 4, \"max\": 4}, \"Number of Records Since Last Reset\": {\"sum\": 10127.0, \"count\": 1, \"min\": 10127, \"max\": 10127}, \"Number of Batches Since Last Reset\": {\"sum\": 3.0, \"count\": 1, \"min\": 3, \"max\": 3}}}\u001b[0m\n",
      "\u001b[34m[04/27/2024 02:45:53 INFO 140070763009856] #throughput_metric: host=algo-1, train throughput=344080.5901155962 records/second\u001b[0m\n",
      "\u001b[34m[2024-04-27 02:45:53.102] [tensorio] [info] epoch_stats={\"data_pipeline\": \"/opt/ml/input/data/train\", \"epoch\": 9, \"duration\": 30, \"num_examples\": 3, \"num_bytes\": 405080}\u001b[0m\n",
      "\u001b[34m[04/27/2024 02:45:53 INFO 140070763009856] processed a total of 10127 examples\u001b[0m\n",
      "\u001b[34m[04/27/2024 02:45:53 INFO 140070763009856] #progress_metric: host=algo-1, completed 100.0 % of epochs\u001b[0m\n",
      "\u001b[34m#metrics {\"StartTime\": 1714185953.0720463, \"EndTime\": 1714185953.1030478, \"Dimensions\": {\"Algorithm\": \"AWS/KMeansWebscale\", \"Host\": \"algo-1\", \"Operation\": \"training\", \"epoch\": 4, \"Meta\": \"training_data_iter\"}, \"Metrics\": {\"Total Records Seen\": {\"sum\": 55635.0, \"count\": 1, \"min\": 55635, \"max\": 55635}, \"Total Batches Seen\": {\"sum\": 16.0, \"count\": 1, \"min\": 16, \"max\": 16}, \"Max Records Seen Between Resets\": {\"sum\": 10127.0, \"count\": 1, \"min\": 10127, \"max\": 10127}, \"Max Batches Seen Between Resets\": {\"sum\": 3.0, \"count\": 1, \"min\": 3, \"max\": 3}, \"Reset Count\": {\"sum\": 5.0, \"count\": 1, \"min\": 5, \"max\": 5}, \"Number of Records Since Last Reset\": {\"sum\": 10127.0, \"count\": 1, \"min\": 10127, \"max\": 10127}, \"Number of Batches Since Last Reset\": {\"sum\": 3.0, \"count\": 1, \"min\": 3, \"max\": 3}}}\u001b[0m\n",
      "\u001b[34m[04/27/2024 02:45:53 INFO 140070763009856] #throughput_metric: host=algo-1, train throughput=324809.90898593725 records/second\u001b[0m\n",
      "\u001b[34m[04/27/2024 02:45:53 WARNING 140070763009856] wait_for_all_workers will not sync workers since the kv store is not running distributed\u001b[0m\n",
      "\u001b[34m[04/27/2024 02:45:53 INFO 140070763009856] shrinking 50 centers into 5\u001b[0m\n",
      "\u001b[34m[04/27/2024 02:45:53 INFO 140070763009856] local kmeans attempt #0. Current mean square distance 0.361964\u001b[0m\n",
      "\u001b[34m[04/27/2024 02:45:53 INFO 140070763009856] local kmeans attempt #1. Current mean square distance 0.465137\u001b[0m\n",
      "\u001b[34m[04/27/2024 02:45:53 INFO 140070763009856] local kmeans attempt #2. Current mean square distance 0.462831\u001b[0m\n",
      "\u001b[34m[04/27/2024 02:45:53 INFO 140070763009856] local kmeans attempt #3. Current mean square distance 0.359989\u001b[0m\n",
      "\u001b[34m[04/27/2024 02:45:53 INFO 140070763009856] local kmeans attempt #4. Current mean square distance 0.451926\u001b[0m\n",
      "\u001b[34m[04/27/2024 02:45:53 INFO 140070763009856] local kmeans attempt #5. Current mean square distance 0.377669\u001b[0m\n",
      "\u001b[34m[04/27/2024 02:45:53 INFO 140070763009856] local kmeans attempt #6. Current mean square distance 0.361964\u001b[0m\n",
      "\u001b[34m[04/27/2024 02:45:53 INFO 140070763009856] local kmeans attempt #7. Current mean square distance 0.364764\u001b[0m\n",
      "\u001b[34m[04/27/2024 02:45:53 INFO 140070763009856] local kmeans attempt #8. Current mean square distance 0.583111\u001b[0m\n",
      "\u001b[34m[04/27/2024 02:45:53 INFO 140070763009856] local kmeans attempt #9. Current mean square distance 0.414921\u001b[0m\n",
      "\u001b[34m[04/27/2024 02:45:53 INFO 140070763009856] finished shrinking process. Mean Square Distance = 0\u001b[0m\n",
      "\u001b[34m[04/27/2024 02:45:53 INFO 140070763009856] #quality_metric: host=algo-1, train msd <loss>=0.35998937487602234\u001b[0m\n",
      "\u001b[34m[04/27/2024 02:45:53 INFO 140070763009856] predict compute msd took: 26.6475%, (0.039430 secs)\u001b[0m\n",
      "\u001b[34m[04/27/2024 02:45:53 INFO 140070763009856] batch data loading with context took: 21.4561%, (0.031748 secs)\u001b[0m\n",
      "\u001b[34m[04/27/2024 02:45:53 INFO 140070763009856] compute all data-center distances: inner product took: 16.0062%, (0.023684 secs)\u001b[0m\n",
      "\u001b[34m[04/27/2024 02:45:53 INFO 140070763009856] gradient: cluster size  took: 15.2073%, (0.022502 secs)\u001b[0m\n",
      "\u001b[34m[04/27/2024 02:45:53 INFO 140070763009856] gradient: cluster center took: 6.1688%, (0.009128 secs)\u001b[0m\n",
      "\u001b[34m[04/27/2024 02:45:53 INFO 140070763009856] update state and report convergance took: 3.9962%, (0.005913 secs)\u001b[0m\n",
      "\u001b[34m[04/27/2024 02:45:53 INFO 140070763009856] compute all data-center distances: point norm took: 2.9817%, (0.004412 secs)\u001b[0m\n",
      "\u001b[34m[04/27/2024 02:45:53 INFO 140070763009856] collect from kv store took: 2.3921%, (0.003540 secs)\u001b[0m\n",
      "\u001b[34m[04/27/2024 02:45:53 INFO 140070763009856] gradient: one_hot took: 1.7890%, (0.002647 secs)\u001b[0m\n",
      "\u001b[34m[04/27/2024 02:45:53 INFO 140070763009856] compute all data-center distances: center norm took: 1.3636%, (0.002018 secs)\u001b[0m\n",
      "\u001b[34m[04/27/2024 02:45:53 INFO 140070763009856] splitting centers key-value pair took: 1.1814%, (0.001748 secs)\u001b[0m\n",
      "\u001b[34m[04/27/2024 02:45:53 INFO 140070763009856] update set-up time took: 0.5960%, (0.000882 secs)\u001b[0m\n",
      "\u001b[34m[04/27/2024 02:45:53 INFO 140070763009856] predict minus dist took: 0.2140%, (0.000317 secs)\u001b[0m\n",
      "\u001b[34m[04/27/2024 02:45:53 INFO 140070763009856] TOTAL took: 0.14796757698059082\u001b[0m\n",
      "\u001b[34m[04/27/2024 02:45:53 INFO 140070763009856] Number of GPUs being used: 0\u001b[0m\n",
      "\u001b[34m#metrics {\"StartTime\": 1714185952.9199345, \"EndTime\": 1714185953.2464578, \"Dimensions\": {\"Algorithm\": \"AWS/KMeansWebscale\", \"Host\": \"algo-1\", \"Operation\": \"training\"}, \"Metrics\": {\"initialize.time\": {\"sum\": 22.160053253173828, \"count\": 1, \"min\": 22.160053253173828, \"max\": 22.160053253173828}, \"epochs\": {\"sum\": 5.0, \"count\": 1, \"min\": 5, \"max\": 5}, \"update.time\": {\"sum\": 151.35860443115234, \"count\": 5, \"min\": 28.725862503051758, \"max\": 31.84199333190918}, \"_shrink.time\": {\"sum\": 140.9013271331787, \"count\": 1, \"min\": 140.9013271331787, \"max\": 140.9013271331787}, \"finalize.time\": {\"sum\": 142.80080795288086, \"count\": 1, \"min\": 142.80080795288086, \"max\": 142.80080795288086}, \"model.serialize.time\": {\"sum\": 0.18596649169921875, \"count\": 1, \"min\": 0.18596649169921875, \"max\": 0.18596649169921875}}}\u001b[0m\n",
      "\u001b[34m[04/27/2024 02:45:53 INFO 140070763009856] Test data is not provided.\u001b[0m\n",
      "\u001b[34m#metrics {\"StartTime\": 1714185953.2465546, \"EndTime\": 1714185953.2469318, \"Dimensions\": {\"Algorithm\": \"AWS/KMeansWebscale\", \"Host\": \"algo-1\", \"Operation\": \"training\"}, \"Metrics\": {\"setuptime\": {\"sum\": 2.4411678314208984, \"count\": 1, \"min\": 2.4411678314208984, \"max\": 2.4411678314208984}, \"totaltime\": {\"sum\": 379.6710968017578, \"count\": 1, \"min\": 379.6710968017578, \"max\": 379.6710968017578}}}\u001b[0m\n",
      "\n",
      "2024-04-27 02:46:09 Uploading - Uploading generated training model\n",
      "2024-04-27 02:46:09 Completed - Training job completed\n",
      "Training seconds: 147\n",
      "Billable seconds: 147\n"
     ]
    }
   ],
   "source": [
    "kmeans.fit(kmeans.record_set(df_data_scaled))"
   ]
  },
  {
   "cell_type": "markdown",
   "id": "96ffb8d3-cf42-41d8-bdd0-6e1d9c964b98",
   "metadata": {},
   "source": [
    "# Deploy model - create endopoint"
   ]
  },
  {
   "cell_type": "code",
   "execution_count": 7,
   "id": "b714cfc8-c10b-4fb6-93e7-83c76e5800b7",
   "metadata": {},
   "outputs": [
    {
     "name": "stdout",
     "output_type": "stream",
     "text": [
      "model_output_path :  s3://eliezerraj-908671954593-dataset/customer/notebook/output/kmeans-2024-04-27-02-42-52-576/output/model.tar.gz\n"
     ]
    }
   ],
   "source": [
    "job_name = kmeans.latest_training_job.name\n",
    "\n",
    "model_output_path =  f's3://{bucket_name}/{prefix_name}/{job_name}/output/model.tar.gz'\n",
    "\n",
    "print(\"model_output_path : \",model_output_path)"
   ]
  },
  {
   "cell_type": "code",
   "execution_count": 8,
   "id": "15cbe981-2e5b-48c4-b1eb-526a63ff4777",
   "metadata": {},
   "outputs": [
    {
     "name": "stdout",
     "output_type": "stream",
     "text": [
      "Model name: kmeans-serverless-customer-v1-2024-04-27-02-46-45\n"
     ]
    }
   ],
   "source": [
    "# Get the model\n",
    "from time import gmtime, strftime\n",
    "\n",
    "client = boto3.client(service_name=\"sagemaker\")\n",
    "region = boto3.Session().region_name\n",
    "\n",
    "model_name = \"kmeans-serverless-customer-v1-\" + strftime(\"%Y-%m-%d-%H-%M-%S\", gmtime())\n",
    "print(\"Model name: \" + model_name)"
   ]
  },
  {
   "cell_type": "code",
   "execution_count": 9,
   "id": "d1e348c5-45ee-425f-bb00-e248aca4db82",
   "metadata": {},
   "outputs": [
    {
     "name": "stderr",
     "output_type": "stream",
     "text": [
      "INFO:sagemaker.image_uris:Same images used for training and inference. Defaulting to image scope: inference.\n",
      "WARNING:sagemaker.image_uris:Defaulting to the only supported framework/algorithm version: 1. Ignoring framework/algorithm version: latest.\n",
      "INFO:sagemaker.image_uris:Ignoring unnecessary instance type: None.\n"
     ]
    },
    {
     "name": "stdout",
     "output_type": "stream",
     "text": [
      "containere: 404615174143.dkr.ecr.us-east-2.amazonaws.com/kmeans:1\n"
     ]
    }
   ],
   "source": [
    "# Get the container image\n",
    "from sagemaker import image_uris\n",
    "container = image_uris.retrieve(\"kmeans\", region, \"latest\")\n",
    "\n",
    "print(\"containere: \" + container)"
   ]
  },
  {
   "cell_type": "code",
   "execution_count": 10,
   "id": "c74e7b05-4fef-4fdb-a0c3-38af1446a78f",
   "metadata": {},
   "outputs": [
    {
     "name": "stdout",
     "output_type": "stream",
     "text": [
      "Model Arn: arn:aws:sagemaker:us-east-2:908671954593:model/kmeans-serverless-customer-v1-2024-04-27-02-46-45\n"
     ]
    }
   ],
   "source": [
    "# dummy environment variables\n",
    "byo_container_env_vars = {\"SAGEMAKER_CONTAINER_LOG_LEVEL\": \"20\", \"SOME_ENV_VAR\": \"myEnvVar\"}\n",
    "\n",
    "create_model_response = client.create_model(\n",
    "    ModelName=model_name,\n",
    "    Containers=[\n",
    "        {\n",
    "            \"Image\": container,\n",
    "            \"Mode\": \"SingleModel\",\n",
    "            \"ModelDataUrl\": model_output_path,\n",
    "            \"Environment\": byo_container_env_vars,\n",
    "        }\n",
    "    ],\n",
    "    ExecutionRoleArn=role,\n",
    ")\n",
    "\n",
    "print(\"Model Arn: \" + create_model_response[\"ModelArn\"])"
   ]
  },
  {
   "cell_type": "code",
   "execution_count": 12,
   "id": "494e4d51-2edb-49bd-a635-4e3006866db0",
   "metadata": {},
   "outputs": [
    {
     "name": "stdout",
     "output_type": "stream",
     "text": [
      "Endpoint Configuration Arn: arn:aws:sagemaker:us-east-2:908671954593:endpoint-config/mlops-serverless-epc-customer-v1-2024-04-27-02-49-56\n"
     ]
    }
   ],
   "source": [
    "# Serveless endpoint config\n",
    "model_epc_name = \"mlops-serverless-epc-customer-v1-\" + strftime(\"%Y-%m-%d-%H-%M-%S\", gmtime())\n",
    "\n",
    "endpoint_config_response = client.create_endpoint_config(\n",
    "    EndpointConfigName=model_epc_name,\n",
    "    ProductionVariants=[\n",
    "        {\n",
    "            \"VariantName\": \"byoVariant\",\n",
    "            \"ModelName\": model_name,\n",
    "            \"ServerlessConfig\": {\n",
    "                \"MemorySizeInMB\": 4096,\n",
    "                \"MaxConcurrency\": 1,\n",
    "            },\n",
    "        },\n",
    "    ],\n",
    ")\n",
    "\n",
    "# EC2 endpoint\n",
    "kmeans_predictor = kmeans.deploy(initial_instance_count=1, instance_type=\"ml.m4.xlarge\")\n",
    "\n",
    "print(\"Endpoint Configuration Arn: \" + endpoint_config_response[\"EndpointConfigArn\"])"
   ]
  },
  {
   "cell_type": "code",
   "execution_count": 13,
   "id": "cb9aa670-0ecb-4bb7-a1ec-f6698683bdee",
   "metadata": {},
   "outputs": [
    {
     "name": "stdout",
     "output_type": "stream",
     "text": [
      "Endpoint Arn: arn:aws:sagemaker:us-east-2:908671954593:endpoint/kmeans-serverless-ep-customer-v12024-04-27-02-56-37\n"
     ]
    }
   ],
   "source": [
    "# Serveless endpoint\n",
    "\n",
    "endpoint_name = \"kmeans-serverless-ep-customer-v1\" + strftime(\"%Y-%m-%d-%H-%M-%S\", gmtime())\n",
    "\n",
    "create_endpoint_response = client.create_endpoint(\n",
    "    EndpointName=endpoint_name,\n",
    "    EndpointConfigName=model_epc_name,\n",
    ")\n",
    "\n",
    "print(\"Endpoint Arn: \" + create_endpoint_response[\"EndpointArn\"])"
   ]
  },
  {
   "cell_type": "markdown",
   "id": "f7c7a5a6-7e6f-418b-825f-6099c6ca8d19",
   "metadata": {},
   "source": [
    "# Validation"
   ]
  },
  {
   "cell_type": "code",
   "execution_count": 16,
   "id": "1418b4fc-36e0-44de-9fb6-5fe76f62d0c2",
   "metadata": {},
   "outputs": [
    {
     "ename": "AttributeError",
     "evalue": "'str' object has no attribute 'predict'",
     "output_type": "error",
     "traceback": [
      "\u001b[0;31m---------------------------------------------------------------------------\u001b[0m",
      "\u001b[0;31mAttributeError\u001b[0m                            Traceback (most recent call last)",
      "Cell \u001b[0;32mIn[16], line 1\u001b[0m\n\u001b[0;32m----> 1\u001b[0m result \u001b[38;5;241m=\u001b[39m \u001b[43mendpoint_name\u001b[49m\u001b[38;5;241;43m.\u001b[39;49m\u001b[43mpredict\u001b[49m(dt_data_scaled)\n\u001b[1;32m      2\u001b[0m clusters \u001b[38;5;241m=\u001b[39m [r\u001b[38;5;241m.\u001b[39mlabel[\u001b[38;5;124m\"\u001b[39m\u001b[38;5;124mclosest_cluster\u001b[39m\u001b[38;5;124m\"\u001b[39m]\u001b[38;5;241m.\u001b[39mfloat32_tensor\u001b[38;5;241m.\u001b[39mvalues[\u001b[38;5;241m0\u001b[39m] \u001b[38;5;28;01mfor\u001b[39;00m r \u001b[38;5;129;01min\u001b[39;00m result]\n",
      "\u001b[0;31mAttributeError\u001b[0m: 'str' object has no attribute 'predict'"
     ]
    }
   ],
   "source": [
    "result = endpoint_name.predict(dt_data_scaled)\n",
    "clusters = [r.label[\"closest_cluster\"].float32_tensor.values[0] for r in result]"
   ]
  },
  {
   "cell_type": "code",
   "execution_count": 137,
   "id": "3c889c9a-a9fe-425b-8ebc-00f37ceffae5",
   "metadata": {},
   "outputs": [],
   "source": [
    "df_data_raw = pd.read_csv(train_data_file)\n",
    "#df_data_raw.head(3)"
   ]
  },
  {
   "cell_type": "code",
   "execution_count": 146,
   "id": "bfb049d0-fd51-4e5e-9fb4-90b55d366342",
   "metadata": {},
   "outputs": [
    {
     "data": {
      "text/html": [
       "<div>\n",
       "<style scoped>\n",
       "    .dataframe tbody tr th:only-of-type {\n",
       "        vertical-align: middle;\n",
       "    }\n",
       "\n",
       "    .dataframe tbody tr th {\n",
       "        vertical-align: top;\n",
       "    }\n",
       "\n",
       "    .dataframe thead th {\n",
       "        text-align: right;\n",
       "    }\n",
       "</style>\n",
       "<table border=\"1\" class=\"dataframe\">\n",
       "  <thead>\n",
       "    <tr style=\"text-align: right;\">\n",
       "      <th></th>\n",
       "      <th>Customer_Age</th>\n",
       "      <th>Dependent_count</th>\n",
       "      <th>Education_Level_Quality</th>\n",
       "      <th>Income_Category_Quality</th>\n",
       "      <th>CLUSTER</th>\n",
       "    </tr>\n",
       "  </thead>\n",
       "  <tbody>\n",
       "    <tr>\n",
       "      <th>0</th>\n",
       "      <td>45</td>\n",
       "      <td>3</td>\n",
       "      <td>1</td>\n",
       "      <td>3</td>\n",
       "      <td>1.0</td>\n",
       "    </tr>\n",
       "    <tr>\n",
       "      <th>1</th>\n",
       "      <td>49</td>\n",
       "      <td>5</td>\n",
       "      <td>3</td>\n",
       "      <td>1</td>\n",
       "      <td>3.0</td>\n",
       "    </tr>\n",
       "    <tr>\n",
       "      <th>2</th>\n",
       "      <td>51</td>\n",
       "      <td>3</td>\n",
       "      <td>3</td>\n",
       "      <td>4</td>\n",
       "      <td>2.0</td>\n",
       "    </tr>\n",
       "    <tr>\n",
       "      <th>3</th>\n",
       "      <td>40</td>\n",
       "      <td>4</td>\n",
       "      <td>1</td>\n",
       "      <td>1</td>\n",
       "      <td>1.0</td>\n",
       "    </tr>\n",
       "    <tr>\n",
       "      <th>4</th>\n",
       "      <td>40</td>\n",
       "      <td>3</td>\n",
       "      <td>0</td>\n",
       "      <td>3</td>\n",
       "      <td>1.0</td>\n",
       "    </tr>\n",
       "    <tr>\n",
       "      <th>5</th>\n",
       "      <td>44</td>\n",
       "      <td>2</td>\n",
       "      <td>3</td>\n",
       "      <td>2</td>\n",
       "      <td>3.0</td>\n",
       "    </tr>\n",
       "    <tr>\n",
       "      <th>6</th>\n",
       "      <td>51</td>\n",
       "      <td>4</td>\n",
       "      <td>0</td>\n",
       "      <td>5</td>\n",
       "      <td>2.0</td>\n",
       "    </tr>\n",
       "    <tr>\n",
       "      <th>7</th>\n",
       "      <td>32</td>\n",
       "      <td>0</td>\n",
       "      <td>1</td>\n",
       "      <td>3</td>\n",
       "      <td>4.0</td>\n",
       "    </tr>\n",
       "    <tr>\n",
       "      <th>8</th>\n",
       "      <td>37</td>\n",
       "      <td>3</td>\n",
       "      <td>0</td>\n",
       "      <td>3</td>\n",
       "      <td>1.0</td>\n",
       "    </tr>\n",
       "    <tr>\n",
       "      <th>9</th>\n",
       "      <td>48</td>\n",
       "      <td>2</td>\n",
       "      <td>3</td>\n",
       "      <td>4</td>\n",
       "      <td>2.0</td>\n",
       "    </tr>\n",
       "  </tbody>\n",
       "</table>\n",
       "</div>"
      ],
      "text/plain": [
       "   Customer_Age  Dependent_count  Education_Level_Quality  \\\n",
       "0            45                3                        1   \n",
       "1            49                5                        3   \n",
       "2            51                3                        3   \n",
       "3            40                4                        1   \n",
       "4            40                3                        0   \n",
       "5            44                2                        3   \n",
       "6            51                4                        0   \n",
       "7            32                0                        1   \n",
       "8            37                3                        0   \n",
       "9            48                2                        3   \n",
       "\n",
       "   Income_Category_Quality  CLUSTER  \n",
       "0                        3      1.0  \n",
       "1                        1      3.0  \n",
       "2                        4      2.0  \n",
       "3                        1      1.0  \n",
       "4                        3      1.0  \n",
       "5                        2      3.0  \n",
       "6                        5      2.0  \n",
       "7                        3      4.0  \n",
       "8                        3      1.0  \n",
       "9                        4      2.0  "
      ]
     },
     "execution_count": 146,
     "metadata": {},
     "output_type": "execute_result"
    }
   ],
   "source": [
    "df_result_final = df_data_raw[['Customer_Age',\n",
    "                               'Dependent_count',\n",
    "                               'Education_Level_Quality', \n",
    "                               'Income_Category_Quality']]\n",
    "df_result_final[\"CLUSTER\"] = clusters\n",
    "df_result_final.head(10)"
   ]
  },
  {
   "cell_type": "markdown",
   "id": "fbe3c886-5efc-4b02-9999-77b5a93e14b9",
   "metadata": {},
   "source": [
    "# Add a new data"
   ]
  },
  {
   "cell_type": "code",
   "execution_count": 139,
   "id": "4ae9107b-06e6-4247-82eb-80321e63c8aa",
   "metadata": {},
   "outputs": [
    {
     "data": {
      "text/html": [
       "<div>\n",
       "<style scoped>\n",
       "    .dataframe tbody tr th:only-of-type {\n",
       "        vertical-align: middle;\n",
       "    }\n",
       "\n",
       "    .dataframe tbody tr th {\n",
       "        vertical-align: top;\n",
       "    }\n",
       "\n",
       "    .dataframe thead th {\n",
       "        text-align: right;\n",
       "    }\n",
       "</style>\n",
       "<table border=\"1\" class=\"dataframe\">\n",
       "  <thead>\n",
       "    <tr style=\"text-align: right;\">\n",
       "      <th></th>\n",
       "      <th>Customer_Age</th>\n",
       "      <th>Dependent_count</th>\n",
       "      <th>Education_Level_Quality</th>\n",
       "      <th>Income_Category_Quality</th>\n",
       "    </tr>\n",
       "  </thead>\n",
       "  <tbody>\n",
       "    <tr>\n",
       "      <th>0</th>\n",
       "      <td>20</td>\n",
       "      <td>1</td>\n",
       "      <td>1</td>\n",
       "      <td>1</td>\n",
       "    </tr>\n",
       "  </tbody>\n",
       "</table>\n",
       "</div>"
      ],
      "text/plain": [
       "   Customer_Age  Dependent_count  Education_Level_Quality  \\\n",
       "0            20                1                        1   \n",
       "\n",
       "   Income_Category_Quality  \n",
       "0                        1  "
      ]
     },
     "execution_count": 139,
     "metadata": {},
     "output_type": "execute_result"
    }
   ],
   "source": [
    "# new data customes\n",
    "df_new_customer_data = [{ 'Customer_Age': 20, \n",
    "                         'Dependent_count': 1, \n",
    "                         'Education_Level_Quality': 1, \n",
    "                         'Income_Category_Quality': 1 }]\n",
    "\n",
    "df_new_customer_data = pd.DataFrame(df_new_customer_data)\n",
    "df_new_customer_data"
   ]
  },
  {
   "cell_type": "code",
   "execution_count": 144,
   "id": "cbdec954-7326-4d60-9ae6-b4fe74f5f7b2",
   "metadata": {},
   "outputs": [
    {
     "data": {
      "text/html": [
       "<div>\n",
       "<style scoped>\n",
       "    .dataframe tbody tr th:only-of-type {\n",
       "        vertical-align: middle;\n",
       "    }\n",
       "\n",
       "    .dataframe tbody tr th {\n",
       "        vertical-align: top;\n",
       "    }\n",
       "\n",
       "    .dataframe thead th {\n",
       "        text-align: right;\n",
       "    }\n",
       "</style>\n",
       "<table border=\"1\" class=\"dataframe\">\n",
       "  <thead>\n",
       "    <tr style=\"text-align: right;\">\n",
       "      <th></th>\n",
       "      <th>Customer_Age</th>\n",
       "      <th>Dependent_count</th>\n",
       "      <th>Education_Level_Quality</th>\n",
       "      <th>Income_Category_Quality</th>\n",
       "    </tr>\n",
       "  </thead>\n",
       "  <tbody>\n",
       "    <tr>\n",
       "      <th>0</th>\n",
       "      <td>20</td>\n",
       "      <td>1</td>\n",
       "      <td>1</td>\n",
       "      <td>1</td>\n",
       "    </tr>\n",
       "    <tr>\n",
       "      <th>0</th>\n",
       "      <td>45</td>\n",
       "      <td>3</td>\n",
       "      <td>1</td>\n",
       "      <td>3</td>\n",
       "    </tr>\n",
       "    <tr>\n",
       "      <th>1</th>\n",
       "      <td>49</td>\n",
       "      <td>5</td>\n",
       "      <td>3</td>\n",
       "      <td>1</td>\n",
       "    </tr>\n",
       "  </tbody>\n",
       "</table>\n",
       "</div>"
      ],
      "text/plain": [
       "   Customer_Age  Dependent_count  Education_Level_Quality  \\\n",
       "0            20                1                        1   \n",
       "0            45                3                        1   \n",
       "1            49                5                        3   \n",
       "\n",
       "   Income_Category_Quality  \n",
       "0                        1  \n",
       "0                        3  \n",
       "1                        1  "
      ]
     },
     "execution_count": 144,
     "metadata": {},
     "output_type": "execute_result"
    }
   ],
   "source": [
    "df_customer_test = pd.concat([df_new_customer_data, df_data_raw], axis=0)\n",
    "df_customer_test.head(3)"
   ]
  },
  {
   "cell_type": "code",
   "execution_count": 141,
   "id": "77f2bb5a-90e7-46f3-966b-491b951bc51b",
   "metadata": {},
   "outputs": [
    {
     "data": {
      "text/plain": [
       "array([[-3.2820961 , -1.0363563 , -0.50260377, -0.736236  ],\n",
       "       [-0.16500166,  0.50346863, -0.50260377,  0.62012565],\n",
       "       [ 0.33373347,  2.0432935 ,  0.8343289 , -0.736236  ],\n",
       "       ...,\n",
       "       [-0.28968543, -1.0363563 , -0.50260377, -0.736236  ],\n",
       "       [-2.0352583 , -0.26644385,  0.8343289 , -0.05805517],\n",
       "       [-0.41436923, -0.26644385,  0.8343289 , -0.736236  ]],\n",
       "      dtype=float32)"
      ]
     },
     "execution_count": 141,
     "metadata": {},
     "output_type": "execute_result"
    }
   ],
   "source": [
    "df_new_customer_data_scaled_02 = scaler.fit_transform(df_customer_test).astype('float32')\n",
    "df_new_customer_data_scaled_02"
   ]
  },
  {
   "cell_type": "code",
   "execution_count": 142,
   "id": "492fb69b-8007-4581-87e2-f6355c044eb8",
   "metadata": {},
   "outputs": [],
   "source": [
    "new_customer_result_02 = kmeans_predictor.predict(df_new_customer_data_scaled_02)\n",
    "new_customer_clusters_02 = [r.label[\"closest_cluster\"].float32_tensor.values[0] for r in new_customer_result_02]"
   ]
  },
  {
   "cell_type": "code",
   "execution_count": 148,
   "id": "03e8f99a-49a6-44bc-bcf0-e6562fc40a09",
   "metadata": {},
   "outputs": [
    {
     "data": {
      "text/html": [
       "<div>\n",
       "<style scoped>\n",
       "    .dataframe tbody tr th:only-of-type {\n",
       "        vertical-align: middle;\n",
       "    }\n",
       "\n",
       "    .dataframe tbody tr th {\n",
       "        vertical-align: top;\n",
       "    }\n",
       "\n",
       "    .dataframe thead th {\n",
       "        text-align: right;\n",
       "    }\n",
       "</style>\n",
       "<table border=\"1\" class=\"dataframe\">\n",
       "  <thead>\n",
       "    <tr style=\"text-align: right;\">\n",
       "      <th></th>\n",
       "      <th>Customer_Age</th>\n",
       "      <th>Dependent_count</th>\n",
       "      <th>Education_Level_Quality</th>\n",
       "      <th>Income_Category_Quality</th>\n",
       "      <th>CLUSTER</th>\n",
       "    </tr>\n",
       "  </thead>\n",
       "  <tbody>\n",
       "    <tr>\n",
       "      <th>0</th>\n",
       "      <td>20</td>\n",
       "      <td>1</td>\n",
       "      <td>1</td>\n",
       "      <td>1</td>\n",
       "      <td>4.0</td>\n",
       "    </tr>\n",
       "    <tr>\n",
       "      <th>0</th>\n",
       "      <td>45</td>\n",
       "      <td>3</td>\n",
       "      <td>1</td>\n",
       "      <td>3</td>\n",
       "      <td>1.0</td>\n",
       "    </tr>\n",
       "    <tr>\n",
       "      <th>1</th>\n",
       "      <td>49</td>\n",
       "      <td>5</td>\n",
       "      <td>3</td>\n",
       "      <td>1</td>\n",
       "      <td>3.0</td>\n",
       "    </tr>\n",
       "    <tr>\n",
       "      <th>2</th>\n",
       "      <td>51</td>\n",
       "      <td>3</td>\n",
       "      <td>3</td>\n",
       "      <td>4</td>\n",
       "      <td>2.0</td>\n",
       "    </tr>\n",
       "    <tr>\n",
       "      <th>3</th>\n",
       "      <td>40</td>\n",
       "      <td>4</td>\n",
       "      <td>1</td>\n",
       "      <td>1</td>\n",
       "      <td>1.0</td>\n",
       "    </tr>\n",
       "    <tr>\n",
       "      <th>4</th>\n",
       "      <td>40</td>\n",
       "      <td>3</td>\n",
       "      <td>0</td>\n",
       "      <td>3</td>\n",
       "      <td>1.0</td>\n",
       "    </tr>\n",
       "    <tr>\n",
       "      <th>5</th>\n",
       "      <td>44</td>\n",
       "      <td>2</td>\n",
       "      <td>3</td>\n",
       "      <td>2</td>\n",
       "      <td>3.0</td>\n",
       "    </tr>\n",
       "    <tr>\n",
       "      <th>6</th>\n",
       "      <td>51</td>\n",
       "      <td>4</td>\n",
       "      <td>0</td>\n",
       "      <td>5</td>\n",
       "      <td>2.0</td>\n",
       "    </tr>\n",
       "    <tr>\n",
       "      <th>7</th>\n",
       "      <td>32</td>\n",
       "      <td>0</td>\n",
       "      <td>1</td>\n",
       "      <td>3</td>\n",
       "      <td>4.0</td>\n",
       "    </tr>\n",
       "    <tr>\n",
       "      <th>8</th>\n",
       "      <td>37</td>\n",
       "      <td>3</td>\n",
       "      <td>0</td>\n",
       "      <td>3</td>\n",
       "      <td>1.0</td>\n",
       "    </tr>\n",
       "    <tr>\n",
       "      <th>9</th>\n",
       "      <td>48</td>\n",
       "      <td>2</td>\n",
       "      <td>3</td>\n",
       "      <td>4</td>\n",
       "      <td>2.0</td>\n",
       "    </tr>\n",
       "  </tbody>\n",
       "</table>\n",
       "</div>"
      ],
      "text/plain": [
       "   Customer_Age  Dependent_count  Education_Level_Quality  \\\n",
       "0            20                1                        1   \n",
       "0            45                3                        1   \n",
       "1            49                5                        3   \n",
       "2            51                3                        3   \n",
       "3            40                4                        1   \n",
       "4            40                3                        0   \n",
       "5            44                2                        3   \n",
       "6            51                4                        0   \n",
       "7            32                0                        1   \n",
       "8            37                3                        0   \n",
       "9            48                2                        3   \n",
       "\n",
       "   Income_Category_Quality  CLUSTER  \n",
       "0                        1      4.0  \n",
       "0                        3      1.0  \n",
       "1                        1      3.0  \n",
       "2                        4      2.0  \n",
       "3                        1      1.0  \n",
       "4                        3      1.0  \n",
       "5                        2      3.0  \n",
       "6                        5      2.0  \n",
       "7                        3      4.0  \n",
       "8                        3      1.0  \n",
       "9                        4      2.0  "
      ]
     },
     "execution_count": 148,
     "metadata": {},
     "output_type": "execute_result"
    }
   ],
   "source": [
    "df_customer_test[\"CLUSTER\"] = new_customer_clusters_02\n",
    "df_customer_test.head(11)"
   ]
  },
  {
   "cell_type": "code",
   "execution_count": 149,
   "id": "e31cb1b0-2036-4f07-8251-14ca2d079074",
   "metadata": {},
   "outputs": [
    {
     "name": "stderr",
     "output_type": "stream",
     "text": [
      "WARNING:sagemaker.deprecations:The endpoint attribute has been renamed in sagemaker>=2.\n",
      "See: https://sagemaker.readthedocs.io/en/stable/v2.html for details.\n"
     ]
    },
    {
     "name": "stdout",
     "output_type": "stream",
     "text": [
      "kmeans-2024-04-26-02-18-34-583\n"
     ]
    }
   ],
   "source": [
    "print(kmeans_predictor.endpoint)"
   ]
  },
  {
   "cell_type": "code",
   "execution_count": 150,
   "id": "72671f34-c097-41ba-be8b-51d8f9c825bb",
   "metadata": {},
   "outputs": [
    {
     "name": "stderr",
     "output_type": "stream",
     "text": [
      "INFO:sagemaker:Deleting endpoint configuration with name: kmeans-2024-04-26-02-18-34-583\n",
      "INFO:sagemaker:Deleting endpoint with name: kmeans-2024-04-26-02-18-34-583\n"
     ]
    }
   ],
   "source": [
    "kmeans_predictor.delete_endpoint()"
   ]
  },
  {
   "cell_type": "code",
   "execution_count": null,
   "id": "84a933c9-65ea-44c1-87b8-ae24ad6fcc0a",
   "metadata": {},
   "outputs": [],
   "source": []
  }
 ],
 "metadata": {
  "kernelspec": {
   "display_name": "Python 3 (ipykernel)",
   "language": "python",
   "name": "python3"
  },
  "language_info": {
   "codemirror_mode": {
    "name": "ipython",
    "version": 3
   },
   "file_extension": ".py",
   "mimetype": "text/x-python",
   "name": "python",
   "nbconvert_exporter": "python",
   "pygments_lexer": "ipython3",
   "version": "3.10.13"
  }
 },
 "nbformat": 4,
 "nbformat_minor": 5
}
