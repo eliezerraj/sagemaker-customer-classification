{
 "cells": [
  {
   "cell_type": "markdown",
   "id": "6b0f33af-851a-46f3-a893-9f97042f0b7a",
   "metadata": {},
   "source": [
    "# Load Libraries"
   ]
  },
  {
   "cell_type": "code",
   "execution_count": 28,
   "id": "c2860dfd-5c86-43c4-b191-e7ac3dfe7070",
   "metadata": {},
   "outputs": [],
   "source": [
    "# pip3 install s3fs\n",
    "from sagemaker import Session\n",
    "import sagemaker\n",
    "import boto3\n",
    "import re\n",
    "from sagemaker import get_execution_role\n",
    "import numpy as np\n",
    "import pandas as pd\n",
    "import os"
   ]
  },
  {
   "cell_type": "code",
   "execution_count": 29,
   "id": "48268df7-2cfe-4189-b3de-f66f5326c8af",
   "metadata": {},
   "outputs": [
    {
     "name": "stdout",
     "output_type": "stream",
     "text": [
      "sagemaker.config INFO - Not applying SDK defaults from location: /etc/xdg/sagemaker/config.yaml\n",
      "sagemaker.config INFO - Not applying SDK defaults from location: /home/sagemaker-user/.config/sagemaker/config.yaml\n",
      "---------------------------------\n",
      "bucket_name 'eliezerraj-908671954593-dataset':\n",
      "prefix_name 'customer/notebook/output':\n",
      "data_location 's3://eliezerraj-908671954593-dataset/customer/notebook/output/train':\n",
      "output_path 's3://eliezerraj-908671954593-dataset/customer/notebook/output':\n"
     ]
    }
   ],
   "source": [
    "role = get_execution_role()\n",
    "\n",
    "bucket_name = 'eliezerraj-908671954593-dataset'\n",
    "prefix_name = 'customer/notebook/output'\n",
    "output_path = f's3://{bucket_name}/{prefix_name}'\n",
    "data_location = f\"s3://{bucket_name}/{prefix_name}/train\"\n",
    "\n",
    "train_data_file = f's3://{bucket_name}/{prefix_name}/train/train_data.csv'\n",
    "\n",
    "print(\"---------------------------------\")\n",
    "print(f\"bucket_name '{bucket_name}':\")\n",
    "print(f\"prefix_name '{prefix_name}':\")\n",
    "print(f\"data_location '{data_location}':\")\n",
    "print(f\"output_path '{output_path}':\")"
   ]
  },
  {
   "cell_type": "code",
   "execution_count": 30,
   "id": "64004664-949d-4f18-9b31-a50a234895d1",
   "metadata": {
    "scrolled": true
   },
   "outputs": [
    {
     "data": {
      "text/plain": [
       "array([[-0.16540559,  0.50336814, -0.5026349 ,  0.6200389 ],\n",
       "       [ 0.3335704 ,  2.0431986 ,  0.8342485 , -0.736292  ],\n",
       "       [ 0.58305836,  0.50336814,  0.8342485 ,  1.2982044 ],\n",
       "       ...,\n",
       "       [-0.29014957, -1.0364624 , -0.5026349 , -0.736292  ],\n",
       "       [-2.0365655 , -0.26654714,  0.8342485 , -0.05812655],\n",
       "       [-0.41489357, -0.26654714,  0.8342485 , -0.736292  ]],\n",
       "      dtype=float32)"
      ]
     },
     "execution_count": 30,
     "metadata": {},
     "output_type": "execute_result"
    }
   ],
   "source": [
    "#from sklearn.preprocessing import StandardScaler\n",
    "#scaler = StandardScaler()\n",
    "\n",
    "#df_data = pd.read_csv(train_data_file, skiprows = 1, header=None)\n",
    "#df_data_scaled = scaler.fit_transform(df_data).astype('float32')\n",
    "#df_data_scaled\n",
    "\n",
    "# Id the dataset is already scaled\n",
    "df_data = pd.read_csv(train_data_file, header=None)\n",
    "df_data_scaled = df_data.to_numpy().astype('float32')\n",
    "df_data_scaled"
   ]
  },
  {
   "cell_type": "markdown",
   "id": "b542b90d-02ab-4c59-9736-dbb2d00102d7",
   "metadata": {},
   "source": [
    "# Build Model"
   ]
  },
  {
   "cell_type": "code",
   "execution_count": 31,
   "id": "af697393-889f-46ce-8b7c-23534c2486f1",
   "metadata": {},
   "outputs": [
    {
     "name": "stdout",
     "output_type": "stream",
     "text": [
      "sagemaker.config INFO - Not applying SDK defaults from location: /etc/xdg/sagemaker/config.yaml\n",
      "sagemaker.config INFO - Not applying SDK defaults from location: /home/sagemaker-user/.config/sagemaker/config.yaml\n"
     ]
    }
   ],
   "source": [
    "from sagemaker import KMeans\n",
    "\n",
    "kmeans = KMeans(role=role,\n",
    "                instance_count=1,\n",
    "                instance_type='ml.m4.xlarge',\n",
    "                data_location=data_location,\n",
    "                output_path=output_path,\n",
    "                init_method='kmeans++',\n",
    "                k=5,\n",
    "                epochs=5)"
   ]
  },
  {
   "cell_type": "code",
   "execution_count": 32,
   "id": "8d5361ca-a315-4eac-b8e6-3735e608e03b",
   "metadata": {},
   "outputs": [
    {
     "name": "stderr",
     "output_type": "stream",
     "text": [
      "INFO:sagemaker.image_uris:Same images used for training and inference. Defaulting to image scope: inference.\n",
      "INFO:sagemaker.image_uris:Ignoring unnecessary instance type: None.\n",
      "INFO:sagemaker.image_uris:Same images used for training and inference. Defaulting to image scope: inference.\n",
      "INFO:sagemaker.image_uris:Ignoring unnecessary instance type: None.\n",
      "INFO:sagemaker:Creating training-job with name: kmeans-2024-04-29-14-51-14-549\n"
     ]
    },
    {
     "name": "stdout",
     "output_type": "stream",
     "text": [
      "2024-04-29 14:51:14 Starting - Starting the training job...\n",
      "2024-04-29 14:51:30 Starting - Preparing the instances for training...\n",
      "2024-04-29 14:52:03 Downloading - Downloading input data...\n",
      "2024-04-29 14:52:33 Downloading - Downloading the training image.........\n",
      "2024-04-29 14:54:14 Training - Training image download completed. Training in progress.\n",
      "2024-04-29 14:54:14 Uploading - Uploading generated training model.\u001b[34mDocker entrypoint called with argument(s): train\u001b[0m\n",
      "\u001b[34mRunning default environment configuration script\u001b[0m\n",
      "\u001b[34m[04/29/2024 14:54:09 INFO 140277581055808] Reading default configuration from /opt/amazon/lib/python3.8/site-packages/algorithm/resources/default-input.json: {'init_method': 'random', 'mini_batch_size': '5000', 'epochs': '1', 'extra_center_factor': 'auto', 'local_lloyd_max_iter': '300', 'local_lloyd_tol': '0.0001', 'local_lloyd_init_method': 'kmeans++', 'local_lloyd_num_trials': 'auto', 'half_life_time_size': '0', 'eval_metrics': '[\"msd\"]', 'force_dense': 'true', '_disable_wait_to_read': 'false', '_enable_profiler': 'false', '_kvstore': 'auto', '_log_level': 'info', '_num_gpus': 'auto', '_num_kv_servers': '1', '_num_slices': '1', '_tuning_objective_metric': ''}\u001b[0m\n",
      "\u001b[34m[04/29/2024 14:54:09 INFO 140277581055808] Merging with provided configuration from /opt/ml/input/config/hyperparameters.json: {'epochs': '5', 'feature_dim': '4', 'force_dense': 'True', 'init_method': 'kmeans++', 'k': '5'}\u001b[0m\n",
      "\u001b[34m[04/29/2024 14:54:09 INFO 140277581055808] Final configuration: {'init_method': 'kmeans++', 'mini_batch_size': '5000', 'epochs': '5', 'extra_center_factor': 'auto', 'local_lloyd_max_iter': '300', 'local_lloyd_tol': '0.0001', 'local_lloyd_init_method': 'kmeans++', 'local_lloyd_num_trials': 'auto', 'half_life_time_size': '0', 'eval_metrics': '[\"msd\"]', 'force_dense': 'True', '_disable_wait_to_read': 'false', '_enable_profiler': 'false', '_kvstore': 'auto', '_log_level': 'info', '_num_gpus': 'auto', '_num_kv_servers': '1', '_num_slices': '1', '_tuning_objective_metric': '', 'feature_dim': '4', 'k': '5'}\u001b[0m\n",
      "\u001b[34m/opt/amazon/lib/python3.8/site-packages/mxnet/model.py:97: SyntaxWarning: \"is\" with a literal. Did you mean \"==\"?\n",
      "  if num_device is 1 and 'dist' not in kvstore:\u001b[0m\n",
      "\u001b[34m[04/29/2024 14:54:11 WARNING 140277581055808] Loggers have already been setup.\u001b[0m\n",
      "\u001b[34m[04/29/2024 14:54:11 INFO 140277581055808] Final configuration: {'init_method': 'kmeans++', 'mini_batch_size': '5000', 'epochs': '5', 'extra_center_factor': 'auto', 'local_lloyd_max_iter': '300', 'local_lloyd_tol': '0.0001', 'local_lloyd_init_method': 'kmeans++', 'local_lloyd_num_trials': 'auto', 'half_life_time_size': '0', 'eval_metrics': '[\"msd\"]', 'force_dense': 'True', '_disable_wait_to_read': 'false', '_enable_profiler': 'false', '_kvstore': 'auto', '_log_level': 'info', '_num_gpus': 'auto', '_num_kv_servers': '1', '_num_slices': '1', '_tuning_objective_metric': '', 'feature_dim': '4', 'k': '5'}\u001b[0m\n",
      "\u001b[34m[04/29/2024 14:54:11 WARNING 140277581055808] Loggers have already been setup.\u001b[0m\n",
      "\u001b[34mProcess 7 is a worker.\u001b[0m\n",
      "\u001b[34m[04/29/2024 14:54:11 INFO 140277581055808] Using default worker.\u001b[0m\n",
      "\u001b[34m[04/29/2024 14:54:11 INFO 140277581055808] Loaded iterator creator application/x-recordio-protobuf for content type ('application/x-recordio-protobuf', '1.0')\u001b[0m\n",
      "\u001b[34m[04/29/2024 14:54:11 INFO 140277581055808] Create Store: local\u001b[0m\n",
      "\u001b[34m/opt/amazon/python3.8/lib/python3.8/subprocess.py:848: RuntimeWarning: line buffering (buffering=1) isn't supported in binary mode, the default buffer size will be used\n",
      "  self.stdout = io.open(c2pread, 'rb', bufsize)\u001b[0m\n",
      "\u001b[34m[04/29/2024 14:54:11 INFO 140277581055808] nvidia-smi: took 0.032 seconds to run.\u001b[0m\n",
      "\u001b[34m[04/29/2024 14:54:11 INFO 140277581055808] nvidia-smi identified 0 GPUs.\u001b[0m\n",
      "\u001b[34m[04/29/2024 14:54:11 INFO 140277581055808] Number of GPUs being used: 0\u001b[0m\n",
      "\u001b[34m[04/29/2024 14:54:11 INFO 140277581055808] Checkpoint loading and saving are disabled.\u001b[0m\n",
      "\u001b[34m[04/29/2024 14:54:11 INFO 140277581055808] Setting up with params: {'init_method': 'kmeans++', 'mini_batch_size': '5000', 'epochs': '5', 'extra_center_factor': 'auto', 'local_lloyd_max_iter': '300', 'local_lloyd_tol': '0.0001', 'local_lloyd_init_method': 'kmeans++', 'local_lloyd_num_trials': 'auto', 'half_life_time_size': '0', 'eval_metrics': '[\"msd\"]', 'force_dense': 'True', '_disable_wait_to_read': 'false', '_enable_profiler': 'false', '_kvstore': 'auto', '_log_level': 'info', '_num_gpus': 'auto', '_num_kv_servers': '1', '_num_slices': '1', '_tuning_objective_metric': '', 'feature_dim': '4', 'k': '5'}\u001b[0m\n",
      "\u001b[34m[04/29/2024 14:54:11 INFO 140277581055808] 'extra_center_factor' was set to 'auto', evaluated to 10.\u001b[0m\n",
      "\u001b[34m[04/29/2024 14:54:11 INFO 140277581055808] Number of GPUs being used: 0\u001b[0m\n",
      "\u001b[34m[04/29/2024 14:54:11 INFO 140277581055808] number of center slices 1\u001b[0m\n",
      "\u001b[34m#metrics {\"StartTime\": 1714402451.937607, \"EndTime\": 1714402451.937653, \"Dimensions\": {\"Algorithm\": \"AWS/KMeansWebscale\", \"Host\": \"algo-1\", \"Operation\": \"training\", \"Meta\": \"init_train_data_iter\"}, \"Metrics\": {\"Total Records Seen\": {\"sum\": 5000.0, \"count\": 1, \"min\": 5000, \"max\": 5000}, \"Total Batches Seen\": {\"sum\": 1.0, \"count\": 1, \"min\": 1, \"max\": 1}, \"Max Records Seen Between Resets\": {\"sum\": 5000.0, \"count\": 1, \"min\": 5000, \"max\": 5000}, \"Max Batches Seen Between Resets\": {\"sum\": 1.0, \"count\": 1, \"min\": 1, \"max\": 1}, \"Reset Count\": {\"sum\": 0.0, \"count\": 1, \"min\": 0, \"max\": 0}, \"Number of Records Since Last Reset\": {\"sum\": 5000.0, \"count\": 1, \"min\": 5000, \"max\": 5000}, \"Number of Batches Since Last Reset\": {\"sum\": 1.0, \"count\": 1, \"min\": 1, \"max\": 1}}}\u001b[0m\n",
      "\u001b[34m[2024-04-29 14:54:11.937] [tensorio] [info] epoch_stats={\"data_pipeline\": \"/opt/ml/input/data/train\", \"epoch\": 0, \"duration\": 29, \"num_examples\": 1, \"num_bytes\": 200000}\u001b[0m\n",
      "\u001b[34m[2024-04-29 14:54:11.967] [tensorio] [info] epoch_stats={\"data_pipeline\": \"/opt/ml/input/data/train\", \"epoch\": 1, \"duration\": 29, \"num_examples\": 3, \"num_bytes\": 405080}\u001b[0m\n",
      "\u001b[34m[04/29/2024 14:54:11 INFO 140277581055808] processed a total of 10127 examples\u001b[0m\n",
      "\u001b[34m[04/29/2024 14:54:11 INFO 140277581055808] #progress_metric: host=algo-1, completed 20.0 % of epochs\u001b[0m\n",
      "\u001b[34m#metrics {\"StartTime\": 1714402451.9380562, \"EndTime\": 1714402451.96835, \"Dimensions\": {\"Algorithm\": \"AWS/KMeansWebscale\", \"Host\": \"algo-1\", \"Operation\": \"training\", \"epoch\": 0, \"Meta\": \"training_data_iter\"}, \"Metrics\": {\"Total Records Seen\": {\"sum\": 15127.0, \"count\": 1, \"min\": 15127, \"max\": 15127}, \"Total Batches Seen\": {\"sum\": 4.0, \"count\": 1, \"min\": 4, \"max\": 4}, \"Max Records Seen Between Resets\": {\"sum\": 10127.0, \"count\": 1, \"min\": 10127, \"max\": 10127}, \"Max Batches Seen Between Resets\": {\"sum\": 3.0, \"count\": 1, \"min\": 3, \"max\": 3}, \"Reset Count\": {\"sum\": 1.0, \"count\": 1, \"min\": 1, \"max\": 1}, \"Number of Records Since Last Reset\": {\"sum\": 10127.0, \"count\": 1, \"min\": 10127, \"max\": 10127}, \"Number of Batches Since Last Reset\": {\"sum\": 3.0, \"count\": 1, \"min\": 3, \"max\": 3}}}\u001b[0m\n",
      "\u001b[34m[04/29/2024 14:54:11 INFO 140277581055808] #throughput_metric: host=algo-1, train throughput=332433.6834987321 records/second\u001b[0m\n",
      "\u001b[34m[2024-04-29 14:54:11.998] [tensorio] [info] epoch_stats={\"data_pipeline\": \"/opt/ml/input/data/train\", \"epoch\": 3, \"duration\": 29, \"num_examples\": 3, \"num_bytes\": 405080}\u001b[0m\n",
      "\u001b[34m[04/29/2024 14:54:11 INFO 140277581055808] processed a total of 10127 examples\u001b[0m\n",
      "\u001b[34m[04/29/2024 14:54:11 INFO 140277581055808] #progress_metric: host=algo-1, completed 40.0 % of epochs\u001b[0m\n",
      "\u001b[34m#metrics {\"StartTime\": 1714402451.9686909, \"EndTime\": 1714402451.9988093, \"Dimensions\": {\"Algorithm\": \"AWS/KMeansWebscale\", \"Host\": \"algo-1\", \"Operation\": \"training\", \"epoch\": 1, \"Meta\": \"training_data_iter\"}, \"Metrics\": {\"Total Records Seen\": {\"sum\": 25254.0, \"count\": 1, \"min\": 25254, \"max\": 25254}, \"Total Batches Seen\": {\"sum\": 7.0, \"count\": 1, \"min\": 7, \"max\": 7}, \"Max Records Seen Between Resets\": {\"sum\": 10127.0, \"count\": 1, \"min\": 10127, \"max\": 10127}, \"Max Batches Seen Between Resets\": {\"sum\": 3.0, \"count\": 1, \"min\": 3, \"max\": 3}, \"Reset Count\": {\"sum\": 2.0, \"count\": 1, \"min\": 2, \"max\": 2}, \"Number of Records Since Last Reset\": {\"sum\": 10127.0, \"count\": 1, \"min\": 10127, \"max\": 10127}, \"Number of Batches Since Last Reset\": {\"sum\": 3.0, \"count\": 1, \"min\": 3, \"max\": 3}}}\u001b[0m\n",
      "\u001b[34m[04/29/2024 14:54:11 INFO 140277581055808] #throughput_metric: host=algo-1, train throughput=334296.5261136471 records/second\u001b[0m\n",
      "\u001b[34m[2024-04-29 14:54:12.028] [tensorio] [info] epoch_stats={\"data_pipeline\": \"/opt/ml/input/data/train\", \"epoch\": 5, \"duration\": 29, \"num_examples\": 3, \"num_bytes\": 405080}\u001b[0m\n",
      "\u001b[34m[04/29/2024 14:54:12 INFO 140277581055808] processed a total of 10127 examples\u001b[0m\n",
      "\u001b[34m[04/29/2024 14:54:12 INFO 140277581055808] #progress_metric: host=algo-1, completed 60.0 % of epochs\u001b[0m\n",
      "\u001b[34m#metrics {\"StartTime\": 1714402451.9991486, \"EndTime\": 1714402452.0290806, \"Dimensions\": {\"Algorithm\": \"AWS/KMeansWebscale\", \"Host\": \"algo-1\", \"Operation\": \"training\", \"epoch\": 2, \"Meta\": \"training_data_iter\"}, \"Metrics\": {\"Total Records Seen\": {\"sum\": 35381.0, \"count\": 1, \"min\": 35381, \"max\": 35381}, \"Total Batches Seen\": {\"sum\": 10.0, \"count\": 1, \"min\": 10, \"max\": 10}, \"Max Records Seen Between Resets\": {\"sum\": 10127.0, \"count\": 1, \"min\": 10127, \"max\": 10127}, \"Max Batches Seen Between Resets\": {\"sum\": 3.0, \"count\": 1, \"min\": 3, \"max\": 3}, \"Reset Count\": {\"sum\": 3.0, \"count\": 1, \"min\": 3, \"max\": 3}, \"Number of Records Since Last Reset\": {\"sum\": 10127.0, \"count\": 1, \"min\": 10127, \"max\": 10127}, \"Number of Batches Since Last Reset\": {\"sum\": 3.0, \"count\": 1, \"min\": 3, \"max\": 3}}}\u001b[0m\n",
      "\u001b[34m[04/29/2024 14:54:12 INFO 140277581055808] #throughput_metric: host=algo-1, train throughput=336380.0385513926 records/second\u001b[0m\n",
      "\u001b[34m[2024-04-29 14:54:12.058] [tensorio] [info] epoch_stats={\"data_pipeline\": \"/opt/ml/input/data/train\", \"epoch\": 7, \"duration\": 28, \"num_examples\": 3, \"num_bytes\": 405080}\u001b[0m\n",
      "\u001b[34m[04/29/2024 14:54:12 INFO 140277581055808] processed a total of 10127 examples\u001b[0m\n",
      "\u001b[34m[04/29/2024 14:54:12 INFO 140277581055808] #progress_metric: host=algo-1, completed 80.0 % of epochs\u001b[0m\n",
      "\u001b[34m#metrics {\"StartTime\": 1714402452.0294075, \"EndTime\": 1714402452.059189, \"Dimensions\": {\"Algorithm\": \"AWS/KMeansWebscale\", \"Host\": \"algo-1\", \"Operation\": \"training\", \"epoch\": 3, \"Meta\": \"training_data_iter\"}, \"Metrics\": {\"Total Records Seen\": {\"sum\": 45508.0, \"count\": 1, \"min\": 45508, \"max\": 45508}, \"Total Batches Seen\": {\"sum\": 13.0, \"count\": 1, \"min\": 13, \"max\": 13}, \"Max Records Seen Between Resets\": {\"sum\": 10127.0, \"count\": 1, \"min\": 10127, \"max\": 10127}, \"Max Batches Seen Between Resets\": {\"sum\": 3.0, \"count\": 1, \"min\": 3, \"max\": 3}, \"Reset Count\": {\"sum\": 4.0, \"count\": 1, \"min\": 4, \"max\": 4}, \"Number of Records Since Last Reset\": {\"sum\": 10127.0, \"count\": 1, \"min\": 10127, \"max\": 10127}, \"Number of Batches Since Last Reset\": {\"sum\": 3.0, \"count\": 1, \"min\": 3, \"max\": 3}}}\u001b[0m\n",
      "\u001b[34m[04/29/2024 14:54:12 INFO 140277581055808] #throughput_metric: host=algo-1, train throughput=338133.9983760289 records/second\u001b[0m\n",
      "\u001b[34m[2024-04-29 14:54:12.096] [tensorio] [info] epoch_stats={\"data_pipeline\": \"/opt/ml/input/data/train\", \"epoch\": 9, \"duration\": 37, \"num_examples\": 3, \"num_bytes\": 405080}\u001b[0m\n",
      "\u001b[34m[04/29/2024 14:54:12 INFO 140277581055808] processed a total of 10127 examples\u001b[0m\n",
      "\u001b[34m[04/29/2024 14:54:12 INFO 140277581055808] #progress_metric: host=algo-1, completed 100.0 % of epochs\u001b[0m\n",
      "\u001b[34m#metrics {\"StartTime\": 1714402452.0595207, \"EndTime\": 1714402452.0975318, \"Dimensions\": {\"Algorithm\": \"AWS/KMeansWebscale\", \"Host\": \"algo-1\", \"Operation\": \"training\", \"epoch\": 4, \"Meta\": \"training_data_iter\"}, \"Metrics\": {\"Total Records Seen\": {\"sum\": 55635.0, \"count\": 1, \"min\": 55635, \"max\": 55635}, \"Total Batches Seen\": {\"sum\": 16.0, \"count\": 1, \"min\": 16, \"max\": 16}, \"Max Records Seen Between Resets\": {\"sum\": 10127.0, \"count\": 1, \"min\": 10127, \"max\": 10127}, \"Max Batches Seen Between Resets\": {\"sum\": 3.0, \"count\": 1, \"min\": 3, \"max\": 3}, \"Reset Count\": {\"sum\": 5.0, \"count\": 1, \"min\": 5, \"max\": 5}, \"Number of Records Since Last Reset\": {\"sum\": 10127.0, \"count\": 1, \"min\": 10127, \"max\": 10127}, \"Number of Batches Since Last Reset\": {\"sum\": 3.0, \"count\": 1, \"min\": 3, \"max\": 3}}}\u001b[0m\n",
      "\u001b[34m[04/29/2024 14:54:12 INFO 140277581055808] #throughput_metric: host=algo-1, train throughput=265203.05318956316 records/second\u001b[0m\n",
      "\u001b[34m[04/29/2024 14:54:12 WARNING 140277581055808] wait_for_all_workers will not sync workers since the kv store is not running distributed\u001b[0m\n",
      "\u001b[34m[04/29/2024 14:54:12 INFO 140277581055808] shrinking 50 centers into 5\u001b[0m\n",
      "\u001b[34m[04/29/2024 14:54:12 INFO 140277581055808] local kmeans attempt #0. Current mean square distance 0.414921\u001b[0m\n",
      "\u001b[34m[04/29/2024 14:54:12 INFO 140277581055808] local kmeans attempt #1. Current mean square distance 0.465137\u001b[0m\n",
      "\u001b[34m[04/29/2024 14:54:12 INFO 140277581055808] local kmeans attempt #2. Current mean square distance 0.465137\u001b[0m\n",
      "\u001b[34m[04/29/2024 14:54:12 INFO 140277581055808] local kmeans attempt #3. Current mean square distance 0.359989\u001b[0m\n",
      "\u001b[34m[04/29/2024 14:54:12 INFO 140277581055808] local kmeans attempt #4. Current mean square distance 0.451926\u001b[0m\n",
      "\u001b[34m[04/29/2024 14:54:12 INFO 140277581055808] local kmeans attempt #5. Current mean square distance 0.361964\u001b[0m\n",
      "\u001b[34m[04/29/2024 14:54:12 INFO 140277581055808] local kmeans attempt #6. Current mean square distance 0.451926\u001b[0m\n",
      "\u001b[34m[04/29/2024 14:54:12 INFO 140277581055808] local kmeans attempt #7. Current mean square distance 0.404353\u001b[0m\n",
      "\u001b[34m[04/29/2024 14:54:12 INFO 140277581055808] local kmeans attempt #8. Current mean square distance 0.583111\u001b[0m\n",
      "\u001b[34m[04/29/2024 14:54:12 INFO 140277581055808] local kmeans attempt #9. Current mean square distance 0.414921\u001b[0m\n",
      "\u001b[34m[04/29/2024 14:54:12 INFO 140277581055808] finished shrinking process. Mean Square Distance = 0\u001b[0m\n",
      "\u001b[34m[04/29/2024 14:54:12 INFO 140277581055808] #quality_metric: host=algo-1, train msd <loss>=0.35998937487602234\u001b[0m\n",
      "\u001b[34m[04/29/2024 14:54:12 INFO 140277581055808] predict compute msd took: 25.5255%, (0.038944 secs)\u001b[0m\n",
      "\u001b[34m[04/29/2024 14:54:12 INFO 140277581055808] batch data loading with context took: 21.2689%, (0.032450 secs)\u001b[0m\n",
      "\u001b[34m[04/29/2024 14:54:12 INFO 140277581055808] compute all data-center distances: inner product took: 15.3733%, (0.023455 secs)\u001b[0m\n",
      "\u001b[34m[04/29/2024 14:54:12 INFO 140277581055808] gradient: cluster size  took: 15.0536%, (0.022967 secs)\u001b[0m\n",
      "\u001b[34m[04/29/2024 14:54:12 INFO 140277581055808] gradient: cluster center took: 6.4803%, (0.009887 secs)\u001b[0m\n",
      "\u001b[34m[04/29/2024 14:54:12 INFO 140277581055808] update state and report convergance took: 4.4673%, (0.006816 secs)\u001b[0m\n",
      "\u001b[34m[04/29/2024 14:54:12 INFO 140277581055808] gradient: one_hot took: 3.0763%, (0.004694 secs)\u001b[0m\n",
      "\u001b[34m[04/29/2024 14:54:12 INFO 140277581055808] compute all data-center distances: point norm took: 2.9566%, (0.004511 secs)\u001b[0m\n",
      "\u001b[34m[04/29/2024 14:54:12 INFO 140277581055808] collect from kv store took: 2.3625%, (0.003604 secs)\u001b[0m\n",
      "\u001b[34m[04/29/2024 14:54:12 INFO 140277581055808] compute all data-center distances: center norm took: 1.3511%, (0.002061 secs)\u001b[0m\n",
      "\u001b[34m[04/29/2024 14:54:12 INFO 140277581055808] splitting centers key-value pair took: 1.1848%, (0.001808 secs)\u001b[0m\n",
      "\u001b[34m[04/29/2024 14:54:12 INFO 140277581055808] update set-up time took: 0.6856%, (0.001046 secs)\u001b[0m\n",
      "\u001b[34m[04/29/2024 14:54:12 INFO 140277581055808] predict minus dist took: 0.2141%, (0.000327 secs)\u001b[0m\n",
      "\u001b[34m[04/29/2024 14:54:12 INFO 140277581055808] TOTAL took: 0.15256881713867188\u001b[0m\n",
      "\u001b[34m[04/29/2024 14:54:12 INFO 140277581055808] Number of GPUs being used: 0\u001b[0m\n",
      "\u001b[34m#metrics {\"StartTime\": 1714402451.9080539, \"EndTime\": 1714402452.2724085, \"Dimensions\": {\"Algorithm\": \"AWS/KMeansWebscale\", \"Host\": \"algo-1\", \"Operation\": \"training\"}, \"Metrics\": {\"initialize.time\": {\"sum\": 22.936105728149414, \"count\": 1, \"min\": 22.936105728149414, \"max\": 22.936105728149414}, \"epochs\": {\"sum\": 5.0, \"count\": 1, \"min\": 5, \"max\": 5}, \"update.time\": {\"sum\": 156.9979190826416, \"count\": 5, \"min\": 29.55937385559082, \"max\": 37.7805233001709}, \"_shrink.time\": {\"sum\": 172.1646785736084, \"count\": 1, \"min\": 172.1646785736084, \"max\": 172.1646785736084}, \"finalize.time\": {\"sum\": 174.1480827331543, \"count\": 1, \"min\": 174.1480827331543, \"max\": 174.1480827331543}, \"model.serialize.time\": {\"sum\": 0.2162456512451172, \"count\": 1, \"min\": 0.2162456512451172, \"max\": 0.2162456512451172}}}\u001b[0m\n",
      "\u001b[34m[04/29/2024 14:54:12 INFO 140277581055808] Test data is not provided.\u001b[0m\n",
      "\u001b[34m#metrics {\"StartTime\": 1714402452.2725227, \"EndTime\": 1714402452.272957, \"Dimensions\": {\"Algorithm\": \"AWS/KMeansWebscale\", \"Host\": \"algo-1\", \"Operation\": \"training\"}, \"Metrics\": {\"setuptime\": {\"sum\": 2.469301223754883, \"count\": 1, \"min\": 2.469301223754883, \"max\": 2.469301223754883}, \"totaltime\": {\"sum\": 418.83134841918945, \"count\": 1, \"min\": 418.83134841918945, \"max\": 418.83134841918945}}}\u001b[0m\n",
      "\n",
      "2024-04-29 14:54:30 Completed - Training job completed\n",
      "Training seconds: 147\n",
      "Billable seconds: 147\n"
     ]
    }
   ],
   "source": [
    "kmeans.fit(kmeans.record_set(df_data_scaled))"
   ]
  },
  {
   "cell_type": "markdown",
   "id": "f9f3d49e-9f7d-4fb7-8dc6-07969eb0070b",
   "metadata": {},
   "source": [
    "# NOT USE FOR INFERENCE - Deploy serverless model"
   ]
  },
  {
   "cell_type": "code",
   "execution_count": null,
   "id": "b714cfc8-c10b-4fb6-93e7-83c76e5800b7",
   "metadata": {},
   "outputs": [],
   "source": [
    "job_name = kmeans.latest_training_job.name\n",
    "\n",
    "model_output_path = f's3://{bucket_name}/{prefix_name}/{job_name}/output/model.tar.gz'\n",
    "\n",
    "print(\"model_output_path : \", model_output_path)"
   ]
  },
  {
   "cell_type": "code",
   "execution_count": null,
   "id": "15cbe981-2e5b-48c4-b1eb-526a63ff4777",
   "metadata": {},
   "outputs": [],
   "source": [
    "# Get the model\n",
    "from time import gmtime, strftime\n",
    "\n",
    "client = boto3.client(service_name=\"sagemaker\")\n",
    "region = boto3.Session().region_name\n",
    "\n",
    "model_name = \"kmeans-serverless-customer-v1-\" + strftime(\"%Y-%m-%d-%H-%M-%S\", gmtime())\n",
    "print(\"Model name: \" + model_name)"
   ]
  },
  {
   "cell_type": "code",
   "execution_count": null,
   "id": "d1e348c5-45ee-425f-bb00-e248aca4db82",
   "metadata": {},
   "outputs": [],
   "source": [
    "# Get the container image\n",
    "from sagemaker import image_uris\n",
    "container = image_uris.retrieve(\"kmeans\", region, \"latest\")\n",
    "\n",
    "print(\"containere: \" + container)"
   ]
  },
  {
   "cell_type": "code",
   "execution_count": null,
   "id": "c74e7b05-4fef-4fdb-a0c3-38af1446a78f",
   "metadata": {},
   "outputs": [],
   "source": [
    "# dummy environment variables\n",
    "byo_container_env_vars = {\"SAGEMAKER_CONTAINER_LOG_LEVEL\": \"20\"}\n",
    "\n",
    "create_model_response = client.create_model(\n",
    "    ModelName=model_name,\n",
    "    Containers=[\n",
    "        {\n",
    "            \"Image\": container,\n",
    "            \"Mode\": \"SingleModel\",\n",
    "            \"ModelDataUrl\": model_output_path,\n",
    "            \"Environment\": byo_container_env_vars,\n",
    "        }\n",
    "    ],\n",
    "    ExecutionRoleArn=role,\n",
    ")\n",
    "\n",
    "print(\"Model Arn: \" + create_model_response[\"ModelArn\"])"
   ]
  },
  {
   "cell_type": "code",
   "execution_count": null,
   "id": "494e4d51-2edb-49bd-a635-4e3006866db0",
   "metadata": {},
   "outputs": [],
   "source": [
    "# Serveless endpoint config\n",
    "model_epc_name = \"mlops-serverless-epc-customer-v1-\" + strftime(\"%Y-%m-%d-%H-%M-%S\", gmtime())\n",
    "\n",
    "endpoint_config_response = client.create_endpoint_config(\n",
    "    EndpointConfigName=model_epc_name,\n",
    "    ProductionVariants=[\n",
    "        {\n",
    "            \"VariantName\": \"byoVariant\",\n",
    "            \"ModelName\": model_name,\n",
    "            \"ServerlessConfig\": {\n",
    "                \"MemorySizeInMB\": 4096,\n",
    "                \"MaxConcurrency\": 1,\n",
    "            },\n",
    "        },\n",
    "    ],\n",
    ")\n",
    "\n",
    "# EC2 endpoint\n",
    "kmeans_predictor = kmeans.deploy(initial_instance_count=1, instance_type=\"ml.m4.xlarge\")\n",
    "\n",
    "print(\"Endpoint Configuration Arn: \" + endpoint_config_response[\"EndpointConfigArn\"])"
   ]
  },
  {
   "cell_type": "code",
   "execution_count": 13,
   "id": "cb9aa670-0ecb-4bb7-a1ec-f6698683bdee",
   "metadata": {},
   "outputs": [
    {
     "name": "stdout",
     "output_type": "stream",
     "text": [
      "Endpoint Arn: arn:aws:sagemaker:us-east-2:908671954593:endpoint/kmeans-serverless-ep-customer-v12024-04-27-02-56-37\n"
     ]
    }
   ],
   "source": [
    "# Serveless endpoint\n",
    "\n",
    "endpoint_name = \"kmeans-serverless-ep-customer-v1\" + strftime(\"%Y-%m-%d-%H-%M-%S\", gmtime())\n",
    "\n",
    "create_endpoint_response = client.create_endpoint(\n",
    "    EndpointName=endpoint_name,\n",
    "    EndpointConfigName=model_epc_name,\n",
    ")\n",
    "\n",
    "print(\"Endpoint Arn: \" + create_endpoint_response[\"EndpointArn\"])"
   ]
  },
  {
   "cell_type": "markdown",
   "id": "f235ba4d-c069-4533-869f-53b7cb6832d5",
   "metadata": {},
   "source": [
    "# Deploy INFERENCE EC2 Model, Endpoint Config and Endpoint"
   ]
  },
  {
   "cell_type": "code",
   "execution_count": 33,
   "id": "c262cafe-53d0-40f9-b6df-a42fa921d9c7",
   "metadata": {},
   "outputs": [
    {
     "name": "stderr",
     "output_type": "stream",
     "text": [
      "INFO:sagemaker.image_uris:Same images used for training and inference. Defaulting to image scope: inference.\n",
      "INFO:sagemaker.image_uris:Ignoring unnecessary instance type: None.\n",
      "INFO:sagemaker:Creating model with name: kmeans-2024-04-29-14-58-01-252\n",
      "INFO:sagemaker:Creating endpoint-config with name kmeans-2024-04-29-14-58-01-252\n",
      "INFO:sagemaker:Creating endpoint with name kmeans-2024-04-29-14-58-01-252\n"
     ]
    },
    {
     "name": "stdout",
     "output_type": "stream",
     "text": [
      "-------!"
     ]
    }
   ],
   "source": [
    "# EC2 endpoint\n",
    "kmeans_predictor = kmeans.deploy(initial_instance_count=1, instance_type=\"ml.m4.xlarge\")"
   ]
  },
  {
   "cell_type": "code",
   "execution_count": 34,
   "id": "8a575a04-f7f3-4d0d-8781-8edad8561e2e",
   "metadata": {},
   "outputs": [],
   "source": [
    "# Install model\n",
    "kmeans_predictor.serializer = sagemaker.serializers.CSVSerializer()"
   ]
  },
  {
   "cell_type": "markdown",
   "id": "ef222245-b589-4904-86a0-26a9c78029c8",
   "metadata": {},
   "source": [
    "# Inference Validation"
   ]
  },
  {
   "cell_type": "code",
   "execution_count": 53,
   "id": "bc9d2162-0c26-4822-9752-1a44d4ab8b3e",
   "metadata": {},
   "outputs": [
    {
     "data": {
      "text/plain": [
       "array([[-0.16540559,  0.50336814, -0.5026349 ,  0.6200389 ],\n",
       "       [ 0.3335704 ,  2.0431986 ,  0.8342485 , -0.736292  ],\n",
       "       [ 0.58305836,  0.50336814,  0.8342485 ,  1.2982044 ],\n",
       "       ...,\n",
       "       [-0.29014957, -1.0364624 , -0.5026349 , -0.736292  ],\n",
       "       [-2.0365655 , -0.26654714,  0.8342485 , -0.05812655],\n",
       "       [-0.41489357, -0.26654714,  0.8342485 , -0.736292  ]],\n",
       "      dtype=float32)"
      ]
     },
     "execution_count": 53,
     "metadata": {},
     "output_type": "execute_result"
    }
   ],
   "source": [
    "df_data_scaled"
   ]
  },
  {
   "cell_type": "code",
   "execution_count": 54,
   "id": "1418b4fc-36e0-44de-9fb6-5fe76f62d0c2",
   "metadata": {},
   "outputs": [
    {
     "name": "stdout",
     "output_type": "stream",
     "text": [
      "===> (CLUSTER )result for 4 posicion :  [0.0, 2.0, 1.0, 0.0]\n"
     ]
    }
   ],
   "source": [
    "result = kmeans_predictor.predict(df_data_scaled)\n",
    "\n",
    "clusters = [r.label[\"closest_cluster\"].float32_tensor.values[0] for r in result]\n",
    "\n",
    "print(\"===> (CLUSTER )result for 4 posicion : \", clusters[0:4])"
   ]
  },
  {
   "cell_type": "code",
   "execution_count": 61,
   "id": "4747f5fd-c81c-45c7-aadc-bf5cd3a91ee6",
   "metadata": {},
   "outputs": [],
   "source": [
    "dataset_name = 'customer_profile.csv'\n",
    "dataset_location = 's3://{}/customer/{}'.format(bucket_name, dataset_name)\n",
    "dataset_location\n",
    "\n",
    "df_inference = pd.read_csv(dataset_location)"
   ]
  },
  {
   "cell_type": "code",
   "execution_count": 62,
   "id": "cff0c640-363b-444a-9aa7-1ef4e763527d",
   "metadata": {},
   "outputs": [
    {
     "data": {
      "text/html": [
       "<div>\n",
       "<style scoped>\n",
       "    .dataframe tbody tr th:only-of-type {\n",
       "        vertical-align: middle;\n",
       "    }\n",
       "\n",
       "    .dataframe tbody tr th {\n",
       "        vertical-align: top;\n",
       "    }\n",
       "\n",
       "    .dataframe thead th {\n",
       "        text-align: right;\n",
       "    }\n",
       "</style>\n",
       "<table border=\"1\" class=\"dataframe\">\n",
       "  <thead>\n",
       "    <tr style=\"text-align: right;\">\n",
       "      <th></th>\n",
       "      <th>CLIENTNUM</th>\n",
       "      <th>Customer_Age</th>\n",
       "      <th>Gender</th>\n",
       "      <th>Dependent_count</th>\n",
       "      <th>Education_Level</th>\n",
       "      <th>Marital_Status</th>\n",
       "      <th>Income_Category</th>\n",
       "      <th>CLUSTER</th>\n",
       "    </tr>\n",
       "  </thead>\n",
       "  <tbody>\n",
       "    <tr>\n",
       "      <th>0</th>\n",
       "      <td>768805383</td>\n",
       "      <td>45</td>\n",
       "      <td>M</td>\n",
       "      <td>3</td>\n",
       "      <td>High School</td>\n",
       "      <td>Married</td>\n",
       "      <td>$60K - $80K</td>\n",
       "      <td>0.0</td>\n",
       "    </tr>\n",
       "    <tr>\n",
       "      <th>1</th>\n",
       "      <td>818770008</td>\n",
       "      <td>49</td>\n",
       "      <td>F</td>\n",
       "      <td>5</td>\n",
       "      <td>Graduate</td>\n",
       "      <td>Single</td>\n",
       "      <td>Less than $40K</td>\n",
       "      <td>2.0</td>\n",
       "    </tr>\n",
       "    <tr>\n",
       "      <th>2</th>\n",
       "      <td>713982108</td>\n",
       "      <td>51</td>\n",
       "      <td>M</td>\n",
       "      <td>3</td>\n",
       "      <td>Graduate</td>\n",
       "      <td>Married</td>\n",
       "      <td>$80K - $120K</td>\n",
       "      <td>1.0</td>\n",
       "    </tr>\n",
       "    <tr>\n",
       "      <th>3</th>\n",
       "      <td>769911858</td>\n",
       "      <td>40</td>\n",
       "      <td>F</td>\n",
       "      <td>4</td>\n",
       "      <td>High School</td>\n",
       "      <td>Unknown</td>\n",
       "      <td>Less than $40K</td>\n",
       "      <td>0.0</td>\n",
       "    </tr>\n",
       "    <tr>\n",
       "      <th>4</th>\n",
       "      <td>709106358</td>\n",
       "      <td>40</td>\n",
       "      <td>M</td>\n",
       "      <td>3</td>\n",
       "      <td>Uneducated</td>\n",
       "      <td>Married</td>\n",
       "      <td>$60K - $80K</td>\n",
       "      <td>0.0</td>\n",
       "    </tr>\n",
       "    <tr>\n",
       "      <th>5</th>\n",
       "      <td>713061558</td>\n",
       "      <td>44</td>\n",
       "      <td>M</td>\n",
       "      <td>2</td>\n",
       "      <td>Graduate</td>\n",
       "      <td>Married</td>\n",
       "      <td>$40K - $60K</td>\n",
       "      <td>2.0</td>\n",
       "    </tr>\n",
       "    <tr>\n",
       "      <th>6</th>\n",
       "      <td>810347208</td>\n",
       "      <td>51</td>\n",
       "      <td>M</td>\n",
       "      <td>4</td>\n",
       "      <td>Unknown</td>\n",
       "      <td>Married</td>\n",
       "      <td>$120K +</td>\n",
       "      <td>1.0</td>\n",
       "    </tr>\n",
       "    <tr>\n",
       "      <th>7</th>\n",
       "      <td>818906208</td>\n",
       "      <td>32</td>\n",
       "      <td>M</td>\n",
       "      <td>0</td>\n",
       "      <td>High School</td>\n",
       "      <td>Unknown</td>\n",
       "      <td>$60K - $80K</td>\n",
       "      <td>4.0</td>\n",
       "    </tr>\n",
       "    <tr>\n",
       "      <th>8</th>\n",
       "      <td>710930508</td>\n",
       "      <td>37</td>\n",
       "      <td>M</td>\n",
       "      <td>3</td>\n",
       "      <td>Uneducated</td>\n",
       "      <td>Single</td>\n",
       "      <td>$60K - $80K</td>\n",
       "      <td>0.0</td>\n",
       "    </tr>\n",
       "    <tr>\n",
       "      <th>9</th>\n",
       "      <td>719661558</td>\n",
       "      <td>48</td>\n",
       "      <td>M</td>\n",
       "      <td>2</td>\n",
       "      <td>Graduate</td>\n",
       "      <td>Single</td>\n",
       "      <td>$80K - $120K</td>\n",
       "      <td>1.0</td>\n",
       "    </tr>\n",
       "  </tbody>\n",
       "</table>\n",
       "</div>"
      ],
      "text/plain": [
       "   CLIENTNUM  Customer_Age Gender  Dependent_count Education_Level  \\\n",
       "0  768805383            45      M                3     High School   \n",
       "1  818770008            49      F                5        Graduate   \n",
       "2  713982108            51      M                3        Graduate   \n",
       "3  769911858            40      F                4     High School   \n",
       "4  709106358            40      M                3      Uneducated   \n",
       "5  713061558            44      M                2        Graduate   \n",
       "6  810347208            51      M                4         Unknown   \n",
       "7  818906208            32      M                0     High School   \n",
       "8  710930508            37      M                3      Uneducated   \n",
       "9  719661558            48      M                2        Graduate   \n",
       "\n",
       "  Marital_Status Income_Category  CLUSTER  \n",
       "0        Married     $60K - $80K      0.0  \n",
       "1         Single  Less than $40K      2.0  \n",
       "2        Married    $80K - $120K      1.0  \n",
       "3        Unknown  Less than $40K      0.0  \n",
       "4        Married     $60K - $80K      0.0  \n",
       "5        Married     $40K - $60K      2.0  \n",
       "6        Married         $120K +      1.0  \n",
       "7        Unknown     $60K - $80K      4.0  \n",
       "8         Single     $60K - $80K      0.0  \n",
       "9         Single    $80K - $120K      1.0  "
      ]
     },
     "execution_count": 62,
     "metadata": {},
     "output_type": "execute_result"
    }
   ],
   "source": [
    "df_inference[\"CLUSTER\"] = clusters\n",
    "df_inference.head(10)"
   ]
  },
  {
   "cell_type": "code",
   "execution_count": 64,
   "id": "357e2bd0-a41d-4582-91bb-f10bce492ec0",
   "metadata": {},
   "outputs": [
    {
     "data": {
      "text/html": [
       "<div>\n",
       "<style scoped>\n",
       "    .dataframe tbody tr th:only-of-type {\n",
       "        vertical-align: middle;\n",
       "    }\n",
       "\n",
       "    .dataframe tbody tr th {\n",
       "        vertical-align: top;\n",
       "    }\n",
       "\n",
       "    .dataframe thead th {\n",
       "        text-align: right;\n",
       "    }\n",
       "</style>\n",
       "<table border=\"1\" class=\"dataframe\">\n",
       "  <thead>\n",
       "    <tr style=\"text-align: right;\">\n",
       "      <th></th>\n",
       "      <th>Customer_Age</th>\n",
       "      <th>Dependent_count</th>\n",
       "      <th>Education_Level_Quality</th>\n",
       "      <th>Income_Category_Quality</th>\n",
       "      <th>CLUSTER</th>\n",
       "    </tr>\n",
       "  </thead>\n",
       "  <tbody>\n",
       "    <tr>\n",
       "      <th>0</th>\n",
       "      <td>-0.165406</td>\n",
       "      <td>0.503368</td>\n",
       "      <td>-0.502635</td>\n",
       "      <td>0.620039</td>\n",
       "      <td>0.0</td>\n",
       "    </tr>\n",
       "    <tr>\n",
       "      <th>1</th>\n",
       "      <td>0.333570</td>\n",
       "      <td>2.043199</td>\n",
       "      <td>0.834248</td>\n",
       "      <td>-0.736292</td>\n",
       "      <td>2.0</td>\n",
       "    </tr>\n",
       "    <tr>\n",
       "      <th>2</th>\n",
       "      <td>0.583058</td>\n",
       "      <td>0.503368</td>\n",
       "      <td>0.834248</td>\n",
       "      <td>1.298204</td>\n",
       "      <td>1.0</td>\n",
       "    </tr>\n",
       "    <tr>\n",
       "      <th>3</th>\n",
       "      <td>-0.789126</td>\n",
       "      <td>1.273283</td>\n",
       "      <td>-0.502635</td>\n",
       "      <td>-0.736292</td>\n",
       "      <td>0.0</td>\n",
       "    </tr>\n",
       "    <tr>\n",
       "      <th>4</th>\n",
       "      <td>-0.789126</td>\n",
       "      <td>0.503368</td>\n",
       "      <td>-1.171077</td>\n",
       "      <td>0.620039</td>\n",
       "      <td>0.0</td>\n",
       "    </tr>\n",
       "    <tr>\n",
       "      <th>5</th>\n",
       "      <td>-0.290150</td>\n",
       "      <td>-0.266547</td>\n",
       "      <td>0.834248</td>\n",
       "      <td>-0.058127</td>\n",
       "      <td>2.0</td>\n",
       "    </tr>\n",
       "    <tr>\n",
       "      <th>6</th>\n",
       "      <td>0.583058</td>\n",
       "      <td>1.273283</td>\n",
       "      <td>-1.171077</td>\n",
       "      <td>1.976370</td>\n",
       "      <td>1.0</td>\n",
       "    </tr>\n",
       "    <tr>\n",
       "      <th>7</th>\n",
       "      <td>-1.787077</td>\n",
       "      <td>-1.806378</td>\n",
       "      <td>-0.502635</td>\n",
       "      <td>0.620039</td>\n",
       "      <td>4.0</td>\n",
       "    </tr>\n",
       "    <tr>\n",
       "      <th>8</th>\n",
       "      <td>-1.163358</td>\n",
       "      <td>0.503368</td>\n",
       "      <td>-1.171077</td>\n",
       "      <td>0.620039</td>\n",
       "      <td>0.0</td>\n",
       "    </tr>\n",
       "    <tr>\n",
       "      <th>9</th>\n",
       "      <td>0.208826</td>\n",
       "      <td>-0.266547</td>\n",
       "      <td>0.834248</td>\n",
       "      <td>1.298204</td>\n",
       "      <td>1.0</td>\n",
       "    </tr>\n",
       "  </tbody>\n",
       "</table>\n",
       "</div>"
      ],
      "text/plain": [
       "   Customer_Age  Dependent_count  Education_Level_Quality  \\\n",
       "0     -0.165406         0.503368                -0.502635   \n",
       "1      0.333570         2.043199                 0.834248   \n",
       "2      0.583058         0.503368                 0.834248   \n",
       "3     -0.789126         1.273283                -0.502635   \n",
       "4     -0.789126         0.503368                -1.171077   \n",
       "5     -0.290150        -0.266547                 0.834248   \n",
       "6      0.583058         1.273283                -1.171077   \n",
       "7     -1.787077        -1.806378                -0.502635   \n",
       "8     -1.163358         0.503368                -1.171077   \n",
       "9      0.208826        -0.266547                 0.834248   \n",
       "\n",
       "   Income_Category_Quality  CLUSTER  \n",
       "0                 0.620039      0.0  \n",
       "1                -0.736292      2.0  \n",
       "2                 1.298204      1.0  \n",
       "3                -0.736292      0.0  \n",
       "4                 0.620039      0.0  \n",
       "5                -0.058127      2.0  \n",
       "6                 1.976370      1.0  \n",
       "7                 0.620039      4.0  \n",
       "8                 0.620039      0.0  \n",
       "9                 1.298204      1.0  "
      ]
     },
     "execution_count": 64,
     "metadata": {},
     "output_type": "execute_result"
    }
   ],
   "source": [
    "df_inference_train = pd.read_csv(train_data_file, names=['Customer_Age', \n",
    "                                                      'Dependent_count', \n",
    "                                                      'Education_Level_Quality',\n",
    "                                                      'Income_Category_Quality'])\n",
    "df_inference_train[\"CLUSTER\"] = clusters\n",
    "df_inference_train.head(10)"
   ]
  },
  {
   "cell_type": "markdown",
   "id": "fbe3c886-5efc-4b02-9999-77b5a93e14b9",
   "metadata": {},
   "source": [
    "# Add a new data"
   ]
  },
  {
   "cell_type": "code",
   "execution_count": 139,
   "id": "4ae9107b-06e6-4247-82eb-80321e63c8aa",
   "metadata": {},
   "outputs": [
    {
     "data": {
      "text/html": [
       "<div>\n",
       "<style scoped>\n",
       "    .dataframe tbody tr th:only-of-type {\n",
       "        vertical-align: middle;\n",
       "    }\n",
       "\n",
       "    .dataframe tbody tr th {\n",
       "        vertical-align: top;\n",
       "    }\n",
       "\n",
       "    .dataframe thead th {\n",
       "        text-align: right;\n",
       "    }\n",
       "</style>\n",
       "<table border=\"1\" class=\"dataframe\">\n",
       "  <thead>\n",
       "    <tr style=\"text-align: right;\">\n",
       "      <th></th>\n",
       "      <th>Customer_Age</th>\n",
       "      <th>Dependent_count</th>\n",
       "      <th>Education_Level_Quality</th>\n",
       "      <th>Income_Category_Quality</th>\n",
       "    </tr>\n",
       "  </thead>\n",
       "  <tbody>\n",
       "    <tr>\n",
       "      <th>0</th>\n",
       "      <td>20</td>\n",
       "      <td>1</td>\n",
       "      <td>1</td>\n",
       "      <td>1</td>\n",
       "    </tr>\n",
       "  </tbody>\n",
       "</table>\n",
       "</div>"
      ],
      "text/plain": [
       "   Customer_Age  Dependent_count  Education_Level_Quality  \\\n",
       "0            20                1                        1   \n",
       "\n",
       "   Income_Category_Quality  \n",
       "0                        1  "
      ]
     },
     "execution_count": 139,
     "metadata": {},
     "output_type": "execute_result"
    }
   ],
   "source": [
    "# new data customes\n",
    "df_new_customer_data = [{ 'Customer_Age': 20, \n",
    "                         'Dependent_count': 1, \n",
    "                         'Education_Level_Quality': 1, \n",
    "                         'Income_Category_Quality': 1 }]\n",
    "\n",
    "df_new_customer_data = pd.DataFrame(df_new_customer_data)\n",
    "df_new_customer_data"
   ]
  },
  {
   "cell_type": "code",
   "execution_count": 144,
   "id": "cbdec954-7326-4d60-9ae6-b4fe74f5f7b2",
   "metadata": {},
   "outputs": [
    {
     "data": {
      "text/html": [
       "<div>\n",
       "<style scoped>\n",
       "    .dataframe tbody tr th:only-of-type {\n",
       "        vertical-align: middle;\n",
       "    }\n",
       "\n",
       "    .dataframe tbody tr th {\n",
       "        vertical-align: top;\n",
       "    }\n",
       "\n",
       "    .dataframe thead th {\n",
       "        text-align: right;\n",
       "    }\n",
       "</style>\n",
       "<table border=\"1\" class=\"dataframe\">\n",
       "  <thead>\n",
       "    <tr style=\"text-align: right;\">\n",
       "      <th></th>\n",
       "      <th>Customer_Age</th>\n",
       "      <th>Dependent_count</th>\n",
       "      <th>Education_Level_Quality</th>\n",
       "      <th>Income_Category_Quality</th>\n",
       "    </tr>\n",
       "  </thead>\n",
       "  <tbody>\n",
       "    <tr>\n",
       "      <th>0</th>\n",
       "      <td>20</td>\n",
       "      <td>1</td>\n",
       "      <td>1</td>\n",
       "      <td>1</td>\n",
       "    </tr>\n",
       "    <tr>\n",
       "      <th>0</th>\n",
       "      <td>45</td>\n",
       "      <td>3</td>\n",
       "      <td>1</td>\n",
       "      <td>3</td>\n",
       "    </tr>\n",
       "    <tr>\n",
       "      <th>1</th>\n",
       "      <td>49</td>\n",
       "      <td>5</td>\n",
       "      <td>3</td>\n",
       "      <td>1</td>\n",
       "    </tr>\n",
       "  </tbody>\n",
       "</table>\n",
       "</div>"
      ],
      "text/plain": [
       "   Customer_Age  Dependent_count  Education_Level_Quality  \\\n",
       "0            20                1                        1   \n",
       "0            45                3                        1   \n",
       "1            49                5                        3   \n",
       "\n",
       "   Income_Category_Quality  \n",
       "0                        1  \n",
       "0                        3  \n",
       "1                        1  "
      ]
     },
     "execution_count": 144,
     "metadata": {},
     "output_type": "execute_result"
    }
   ],
   "source": [
    "df_customer_test = pd.concat([df_new_customer_data, df_data_raw], axis=0)\n",
    "df_customer_test.head(3)"
   ]
  },
  {
   "cell_type": "code",
   "execution_count": 141,
   "id": "77f2bb5a-90e7-46f3-966b-491b951bc51b",
   "metadata": {},
   "outputs": [
    {
     "data": {
      "text/plain": [
       "array([[-3.2820961 , -1.0363563 , -0.50260377, -0.736236  ],\n",
       "       [-0.16500166,  0.50346863, -0.50260377,  0.62012565],\n",
       "       [ 0.33373347,  2.0432935 ,  0.8343289 , -0.736236  ],\n",
       "       ...,\n",
       "       [-0.28968543, -1.0363563 , -0.50260377, -0.736236  ],\n",
       "       [-2.0352583 , -0.26644385,  0.8343289 , -0.05805517],\n",
       "       [-0.41436923, -0.26644385,  0.8343289 , -0.736236  ]],\n",
       "      dtype=float32)"
      ]
     },
     "execution_count": 141,
     "metadata": {},
     "output_type": "execute_result"
    }
   ],
   "source": [
    "df_new_customer_data_scaled_02 = scaler.fit_transform(df_customer_test).astype('float32')\n",
    "df_new_customer_data_scaled_02"
   ]
  },
  {
   "cell_type": "code",
   "execution_count": 142,
   "id": "492fb69b-8007-4581-87e2-f6355c044eb8",
   "metadata": {},
   "outputs": [],
   "source": [
    "new_customer_result_02 = kmeans_predictor.predict(df_new_customer_data_scaled_02)\n",
    "new_customer_clusters_02 = [r.label[\"closest_cluster\"].float32_tensor.values[0] for r in new_customer_result_02]"
   ]
  },
  {
   "cell_type": "code",
   "execution_count": 148,
   "id": "03e8f99a-49a6-44bc-bcf0-e6562fc40a09",
   "metadata": {},
   "outputs": [
    {
     "data": {
      "text/html": [
       "<div>\n",
       "<style scoped>\n",
       "    .dataframe tbody tr th:only-of-type {\n",
       "        vertical-align: middle;\n",
       "    }\n",
       "\n",
       "    .dataframe tbody tr th {\n",
       "        vertical-align: top;\n",
       "    }\n",
       "\n",
       "    .dataframe thead th {\n",
       "        text-align: right;\n",
       "    }\n",
       "</style>\n",
       "<table border=\"1\" class=\"dataframe\">\n",
       "  <thead>\n",
       "    <tr style=\"text-align: right;\">\n",
       "      <th></th>\n",
       "      <th>Customer_Age</th>\n",
       "      <th>Dependent_count</th>\n",
       "      <th>Education_Level_Quality</th>\n",
       "      <th>Income_Category_Quality</th>\n",
       "      <th>CLUSTER</th>\n",
       "    </tr>\n",
       "  </thead>\n",
       "  <tbody>\n",
       "    <tr>\n",
       "      <th>0</th>\n",
       "      <td>20</td>\n",
       "      <td>1</td>\n",
       "      <td>1</td>\n",
       "      <td>1</td>\n",
       "      <td>4.0</td>\n",
       "    </tr>\n",
       "    <tr>\n",
       "      <th>0</th>\n",
       "      <td>45</td>\n",
       "      <td>3</td>\n",
       "      <td>1</td>\n",
       "      <td>3</td>\n",
       "      <td>1.0</td>\n",
       "    </tr>\n",
       "    <tr>\n",
       "      <th>1</th>\n",
       "      <td>49</td>\n",
       "      <td>5</td>\n",
       "      <td>3</td>\n",
       "      <td>1</td>\n",
       "      <td>3.0</td>\n",
       "    </tr>\n",
       "    <tr>\n",
       "      <th>2</th>\n",
       "      <td>51</td>\n",
       "      <td>3</td>\n",
       "      <td>3</td>\n",
       "      <td>4</td>\n",
       "      <td>2.0</td>\n",
       "    </tr>\n",
       "    <tr>\n",
       "      <th>3</th>\n",
       "      <td>40</td>\n",
       "      <td>4</td>\n",
       "      <td>1</td>\n",
       "      <td>1</td>\n",
       "      <td>1.0</td>\n",
       "    </tr>\n",
       "    <tr>\n",
       "      <th>4</th>\n",
       "      <td>40</td>\n",
       "      <td>3</td>\n",
       "      <td>0</td>\n",
       "      <td>3</td>\n",
       "      <td>1.0</td>\n",
       "    </tr>\n",
       "    <tr>\n",
       "      <th>5</th>\n",
       "      <td>44</td>\n",
       "      <td>2</td>\n",
       "      <td>3</td>\n",
       "      <td>2</td>\n",
       "      <td>3.0</td>\n",
       "    </tr>\n",
       "    <tr>\n",
       "      <th>6</th>\n",
       "      <td>51</td>\n",
       "      <td>4</td>\n",
       "      <td>0</td>\n",
       "      <td>5</td>\n",
       "      <td>2.0</td>\n",
       "    </tr>\n",
       "    <tr>\n",
       "      <th>7</th>\n",
       "      <td>32</td>\n",
       "      <td>0</td>\n",
       "      <td>1</td>\n",
       "      <td>3</td>\n",
       "      <td>4.0</td>\n",
       "    </tr>\n",
       "    <tr>\n",
       "      <th>8</th>\n",
       "      <td>37</td>\n",
       "      <td>3</td>\n",
       "      <td>0</td>\n",
       "      <td>3</td>\n",
       "      <td>1.0</td>\n",
       "    </tr>\n",
       "    <tr>\n",
       "      <th>9</th>\n",
       "      <td>48</td>\n",
       "      <td>2</td>\n",
       "      <td>3</td>\n",
       "      <td>4</td>\n",
       "      <td>2.0</td>\n",
       "    </tr>\n",
       "  </tbody>\n",
       "</table>\n",
       "</div>"
      ],
      "text/plain": [
       "   Customer_Age  Dependent_count  Education_Level_Quality  \\\n",
       "0            20                1                        1   \n",
       "0            45                3                        1   \n",
       "1            49                5                        3   \n",
       "2            51                3                        3   \n",
       "3            40                4                        1   \n",
       "4            40                3                        0   \n",
       "5            44                2                        3   \n",
       "6            51                4                        0   \n",
       "7            32                0                        1   \n",
       "8            37                3                        0   \n",
       "9            48                2                        3   \n",
       "\n",
       "   Income_Category_Quality  CLUSTER  \n",
       "0                        1      4.0  \n",
       "0                        3      1.0  \n",
       "1                        1      3.0  \n",
       "2                        4      2.0  \n",
       "3                        1      1.0  \n",
       "4                        3      1.0  \n",
       "5                        2      3.0  \n",
       "6                        5      2.0  \n",
       "7                        3      4.0  \n",
       "8                        3      1.0  \n",
       "9                        4      2.0  "
      ]
     },
     "execution_count": 148,
     "metadata": {},
     "output_type": "execute_result"
    }
   ],
   "source": [
    "df_customer_test[\"CLUSTER\"] = new_customer_clusters_02\n",
    "df_customer_test.head(11)"
   ]
  },
  {
   "cell_type": "code",
   "execution_count": 149,
   "id": "e31cb1b0-2036-4f07-8251-14ca2d079074",
   "metadata": {},
   "outputs": [
    {
     "name": "stderr",
     "output_type": "stream",
     "text": [
      "WARNING:sagemaker.deprecations:The endpoint attribute has been renamed in sagemaker>=2.\n",
      "See: https://sagemaker.readthedocs.io/en/stable/v2.html for details.\n"
     ]
    },
    {
     "name": "stdout",
     "output_type": "stream",
     "text": [
      "kmeans-2024-04-26-02-18-34-583\n"
     ]
    }
   ],
   "source": [
    "print(kmeans_predictor.endpoint)"
   ]
  },
  {
   "cell_type": "code",
   "execution_count": 150,
   "id": "72671f34-c097-41ba-be8b-51d8f9c825bb",
   "metadata": {},
   "outputs": [
    {
     "name": "stderr",
     "output_type": "stream",
     "text": [
      "INFO:sagemaker:Deleting endpoint configuration with name: kmeans-2024-04-26-02-18-34-583\n",
      "INFO:sagemaker:Deleting endpoint with name: kmeans-2024-04-26-02-18-34-583\n"
     ]
    }
   ],
   "source": [
    "kmeans_predictor.delete_endpoint()"
   ]
  },
  {
   "cell_type": "code",
   "execution_count": null,
   "id": "84a933c9-65ea-44c1-87b8-ae24ad6fcc0a",
   "metadata": {},
   "outputs": [],
   "source": []
  }
 ],
 "metadata": {
  "kernelspec": {
   "display_name": "Python 3 (ipykernel)",
   "language": "python",
   "name": "python3"
  },
  "language_info": {
   "codemirror_mode": {
    "name": "ipython",
    "version": 3
   },
   "file_extension": ".py",
   "mimetype": "text/x-python",
   "name": "python",
   "nbconvert_exporter": "python",
   "pygments_lexer": "ipython3",
   "version": "3.10.13"
  }
 },
 "nbformat": 4,
 "nbformat_minor": 5
}
